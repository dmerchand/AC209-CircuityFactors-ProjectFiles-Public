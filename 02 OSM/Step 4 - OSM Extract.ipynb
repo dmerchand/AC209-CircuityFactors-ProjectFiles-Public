{
 "cells": [
  {
   "cell_type": "markdown",
   "metadata": {},
   "source": [
    "# OSM Variable extraction\n",
    "\n",
    "The following provides an overview of progress of extracting OSM data. \n",
    "\n",
    "## Import packages"
   ]
  },
  {
   "cell_type": "code",
   "execution_count": 1,
   "metadata": {
    "ExecuteTime": {
     "end_time": "2016-12-14T19:40:58.900365",
     "start_time": "2016-12-14T19:40:51.776584"
    },
    "collapsed": true
   },
   "outputs": [],
   "source": [
    "from __future__ import division\n",
    "\n",
    "# Computational package\n",
    "import pandas as pd\n",
    "import numpy as np\n",
    "\n",
    "# Geographical packages\n",
    "import geopandas as gpd\n",
    "from shapely.geometry import LineString\n",
    "import utm\n",
    "import re\n",
    "\n",
    "# Visualization packages\n",
    "import matplotlib.pyplot as plt\n",
    "from pandas.tools.plotting import scatter_matrix\n",
    "\n",
    "%matplotlib inline"
   ]
  },
  {
   "cell_type": "markdown",
   "metadata": {},
   "source": [
    "## Functions\n",
    "\n",
    "### Extract data from OSM\n",
    "\n",
    "Mapzen.com gives the possibility to extract data for specific segments (cities or custom segments). This data includes several .geojson files for, for example, roads, amenities and places. We are interested in the road file and we can import that using geopandas. The data includes valuable data on the type of road and the xistence of tunnels and bridges. "
   ]
  },
  {
   "cell_type": "code",
   "execution_count": 2,
   "metadata": {
    "ExecuteTime": {
     "end_time": "2016-12-14T19:40:58.908417",
     "start_time": "2016-12-14T19:40:58.902225"
    },
    "code_folding": [
     0
    ],
    "collapsed": false
   },
   "outputs": [],
   "source": [
    "def extract_OSM_data(file_name):\n",
    "\n",
    "    network = gpd.read_file(file_name)\n",
    "    # Plot network\n",
    "    # SP_roads.plot(figsize=(5,5))\n",
    "\n",
    "    # Print dataframe\n",
    "    network.head()\n",
    "    \n",
    "    return network"
   ]
  },
  {
   "cell_type": "markdown",
   "metadata": {},
   "source": [
    "### Read pixel list\n",
    "\n",
    "This code assumes pixel list with latitude and longitude coordinates is already created. We will read this file and create a bounding box with the following bounds. \n",
    "* minx - Latitude lowerbound\n",
    "* maxx - Latitude upperbound\n",
    "* miny - Longitude lowerbound\n",
    "* maxy - Longitude upperbound\n",
    "\n",
    "Since coordinates are provided in degrees, we first translate those coordinates to UTM before defining the bounds. "
   ]
  },
  {
   "cell_type": "code",
   "execution_count": 3,
   "metadata": {
    "ExecuteTime": {
     "end_time": "2016-12-14T19:40:58.930847",
     "start_time": "2016-12-14T19:40:58.910801"
    },
    "code_folding": [
     0
    ],
    "collapsed": true
   },
   "outputs": [],
   "source": [
    "def read_pixel_list(file_name, pixel_width = 1000):\n",
    "    \"\"\"\n",
    "    Specify pixel_width to account for pixel size. For pixels of 1km^2, the pixel_width is 1000. \n",
    "    \"\"\"\n",
    "    \n",
    "    SP_pixel = pd.read_excel(file_name)\n",
    "    SP_pixel.reset_index(drop = True, inplace = True)\n",
    "\n",
    "    pixel_width = 1000\n",
    "\n",
    "    # Create empty lists to keep track\n",
    "    minx_utm = []\n",
    "    miny_utm = []\n",
    "    maxx_utm = []\n",
    "    maxy_utm = []\n",
    "\n",
    "    # Iterate over all the rows for conversion\n",
    "    for index, row in SP_pixel.iterrows():\n",
    "\n",
    "        x_utm, y_utm, zone_letter, zone_number = utm.from_latlon(row['lat'], row['lon'])\n",
    "\n",
    "        # Append to lists\n",
    "        minx_utm.append(x_utm - pixel_width / 2 )\n",
    "        miny_utm.append(y_utm - pixel_width / 2)\n",
    "        maxx_utm.append(x_utm + pixel_width / 2)\n",
    "        maxy_utm.append(y_utm + pixel_width / 2)\n",
    "\n",
    "    # Update dataframe to UTM\n",
    "    SP_pixel['minx'] = minx_utm\n",
    "    SP_pixel['miny'] = miny_utm\n",
    "    SP_pixel['maxx'] = maxx_utm\n",
    "    SP_pixel['maxy'] = maxy_utm\n",
    "\n",
    "    SP_pixel.head()\n",
    "    \n",
    "    return SP_pixel"
   ]
  },
  {
   "cell_type": "markdown",
   "metadata": {},
   "source": [
    "### Manipulate geometry\n",
    "\n",
    "Currently, each road is stored as a Shapely file. For easier processing of the roads, we take the following steps. \n",
    "\n",
    "#### Find maximum bounds of roads\n",
    "\n",
    "We will find the maximum and minimum latitude and longitude for each road, so we can easier match it to the pixels at a later stage. Furthermore, we transform the bounds to UTM for easier processing. "
   ]
  },
  {
   "cell_type": "code",
   "execution_count": 4,
   "metadata": {
    "ExecuteTime": {
     "end_time": "2016-12-14T19:40:58.953393",
     "start_time": "2016-12-14T19:40:58.933297"
    },
    "code_folding": [
     0
    ],
    "collapsed": false
   },
   "outputs": [],
   "source": [
    "def find_road_bounds(roads_dataframe):\n",
    "    # Create lat, lon road bounds\n",
    "    road_bounds = roads_dataframe['geometry'].bounds\n",
    "\n",
    "    # Create empty lists to keep track\n",
    "    minx_utm = []\n",
    "    miny_utm = []\n",
    "    maxx_utm = []\n",
    "    maxy_utm = []\n",
    "\n",
    "    # Iterate over all the rows for conversion\n",
    "    for index, row in road_bounds.iterrows():\n",
    "\n",
    "        # Convert\n",
    "        minx, miny, zone_letter, zone_number = utm.from_latlon(row['miny'], row['minx'])\n",
    "        maxx, maxy, zone_letter, zone_number = utm.from_latlon(row['maxy'], row['maxx'])\n",
    "\n",
    "        # Append to lists\n",
    "        minx_utm.append(minx)\n",
    "        miny_utm.append(miny)\n",
    "        maxx_utm.append(maxx)\n",
    "        maxy_utm.append(maxy)\n",
    "\n",
    "    # Update dataframe to UTM\n",
    "    road_bounds['minx'] = minx_utm\n",
    "    road_bounds['miny'] = miny_utm\n",
    "    road_bounds['maxx'] = maxx_utm\n",
    "    road_bounds['maxy'] = maxy_utm\n",
    "\n",
    "    # Concatenate dataframe to roads dataframe\n",
    "    roads = pd.concat((roads_dataframe, road_bounds), axis = 1)\n",
    "    \n",
    "    return roads"
   ]
  },
  {
   "cell_type": "markdown",
   "metadata": {},
   "source": [
    "#### Convert linestring to list of UTM coordinates\n",
    "\n",
    "Each road is stored as a shapely LineString file. We transform it to a list of UTM coordinates for easier processing. "
   ]
  },
  {
   "cell_type": "code",
   "execution_count": 5,
   "metadata": {
    "ExecuteTime": {
     "end_time": "2016-12-14T19:40:58.974452",
     "start_time": "2016-12-14T19:40:58.955001"
    },
    "code_folding": [
     0
    ],
    "collapsed": false,
    "scrolled": false
   },
   "outputs": [],
   "source": [
    "def convert_linestring_to_UTM(road_df):\n",
    "\n",
    "    # Lists to keep track\n",
    "    road_utm_column = []\n",
    "    road_length_column = []\n",
    "    number_of_coord = []\n",
    "\n",
    "    # Iterate over all roads\n",
    "    for road_id, road in road_df.iterrows():\n",
    "            # Translate linestring to list\n",
    "            road_list = np.array(road['geometry']).tolist()\n",
    "\n",
    "            # Check and store number of coord\n",
    "            road_length = len(road_list)\n",
    "            number_of_coord = road_length\n",
    "            road_length_column.append(road_length)\n",
    "\n",
    "            # Convert road to utm\n",
    "            road_utm = []\n",
    "            \n",
    "            # Transform coordinates to UTM\n",
    "            for coord in road_list:\n",
    "                    x_utm, y_utm, zone_letter, zone_number = utm.from_latlon(coord[1], coord[0])\n",
    "                    road_utm.append([x_utm, y_utm])\n",
    "\n",
    "            # Store road in column\n",
    "            road_utm_column.append(road_utm)\n",
    "\n",
    "    # Add column to roads dataframe\n",
    "    road_df['road_coords'] = road_utm_column\n",
    "    road_df['number_of_nodes'] = road_length_column\n",
    "\n",
    "    return road_df  "
   ]
  },
  {
   "cell_type": "markdown",
   "metadata": {},
   "source": [
    "### Road Connectivity\n",
    "\n",
    "To determine road connectivity, we want to find all nodes that share coordinates. If two nodes share a coordinate, they indicate an intersection. \n",
    "\n",
    "#### Find coordinates of relevant roads\n",
    "\n",
    "First, we need to identify for what road types we are interested in to find intersections (some roadtypes, like stairs, walkways or bikepaths are not relevant for our analysis since cars cannot drive there). "
   ]
  },
  {
   "cell_type": "code",
   "execution_count": 6,
   "metadata": {
    "ExecuteTime": {
     "end_time": "2016-12-14T19:40:59.002681",
     "start_time": "2016-12-14T19:40:58.975968"
    },
    "code_folding": [
     0
    ],
    "collapsed": false
   },
   "outputs": [],
   "source": [
    "def find_coordinates_relevant_road_types(road_df, road_types):\n",
    "    ''' Road types: List of road types as used in OSM'''\n",
    "    \n",
    "    print 'Total number of roads: ', len(road_df)\n",
    "    road_df = road_df[road_df['type'].isin(road_types)]\n",
    "    print 'Total number of allowable roads: ', len(road_df)\n",
    "    \n",
    "    # Create list to keep track of coordinates\n",
    "    coordinates = []\n",
    "    \n",
    "    # Iterate over roads\n",
    "    for road_id, road in road_df.iterrows():\n",
    "            # Translate linestring to list\n",
    "            road_list = road['road_coords']\n",
    "            \n",
    "            # Iterate over coordinates in road list\n",
    "            # Check if road lenght is bigger than 1, if it is, there is just one point and we want to delete it later\n",
    "            if len(road_list) >= 1.1:\n",
    "\n",
    "                # Analyze first coordiante\n",
    "                for coord in [road_list[0]]:\n",
    "                    coordinates.append([int(coord[0]), int(coord[1]), (int(coord[0]), int(coord[1])), 1, 0, 0])\n",
    "\n",
    "                # Analyze center coordinates\n",
    "                for coord in road_list[1:-1]:\n",
    "                    coordinates.append([int(coord[0]), int(coord[1]), (int(coord[0]), int(coord[1])), 0, 1, 0])\n",
    "\n",
    "                # Analyze last coordinate\n",
    "                for coord in [road_list[-1]]:\n",
    "                    coordinates.append([int(coord[0]), int(coord[1]), (int(coord[0]), int(coord[1])), 1, 0, 0])\n",
    "\n",
    "            # If there is only 1 coordinate\n",
    "            else:\n",
    "                for coord in road_list:\n",
    "                    coordinates.append([int(coord[0]), int(coord[1]), (int(coord[0]), int(coord[1])), 0, 0, 1])\n",
    "    \n",
    "    # Store individual coordinates for road connectivity\n",
    "    coord_df = pd.DataFrame(coordinates, columns = ['x', 'y', 'coords', 'connecting_node', 'center_node', 'one_node'])\n",
    "    \n",
    "    return coord_df"
   ]
  },
  {
   "cell_type": "markdown",
   "metadata": {
    "ExecuteTime": {
     "end_time": "2016-11-30T19:13:56.129508",
     "start_time": "2016-11-30T19:13:56.120093"
    }
   },
   "source": [
    "#### Find intersections\n",
    "\n",
    "We take the following steps to find intersections.  \n",
    "\n",
    "1. Search for all unique coordinates\n",
    "2. Count frequency of unique coordinates\n",
    "3. Take all coordinates that have frequency of two or more\n",
    "\n",
    "For the coordinates of the remaining subset, two things could be the case\n",
    "\n",
    "1. We have an intersection, or at least a point where you can go into three directions\n",
    "2. The road changes name or type, a point where you can only move in two directions\n",
    "\n",
    "Obviously, the latter does not point to road connectivity. We can identify this if two nodes 'connecting_node' coincide at the same coordinate. Therefore, we add a fourth filter to our analysis. \n",
    "\n",
    "4. Take all the coordinates that have frequency two or more and are not two connecting nodes"
   ]
  },
  {
   "cell_type": "code",
   "execution_count": 7,
   "metadata": {
    "ExecuteTime": {
     "end_time": "2016-12-14T19:40:59.018474",
     "start_time": "2016-12-14T19:40:59.004625"
    },
    "code_folding": [
     0
    ],
    "collapsed": false
   },
   "outputs": [],
   "source": [
    "def road_connecitivity(coordinates_df):\n",
    "    # Print number of coordines\n",
    "    print 'Number of nodes: ', coordinates_df.shape[0]\n",
    "\n",
    "    # Create pivot table to find nodes with the same coordiantes\n",
    "    pivot_table = coordinates_df.pivot_table(index = ['x', 'y'], aggfunc=np.count_nonzero)\n",
    "\n",
    "    #Delete all the nodes with only one coordiante\n",
    "    pivot_table.drop(['one_node'], axis = 1, inplace = True)\n",
    "\n",
    "    # Print number of unique coordiantes\n",
    "    print 'Number of unique nodes: ', pivot_table.shape[0]\n",
    "\n",
    "    # Filter coords with more than one node\n",
    "    pivot_table = pivot_table[pivot_table['coords'] > 1]\n",
    "    print 'Number of coordinates with two or more nodes: ', pivot_table.shape[0]\n",
    "\n",
    "    # Filter coordinates with only two nodes that are both a connecting node\n",
    "    pivot_table = pivot_table[(pivot_table['coords'] > 2) | (pivot_table['center_node'] >= 1)]\n",
    "    print 'Number of connectivity coordinates: ', pivot_table.shape[0]\n",
    "    \n",
    "    pivot_table = pivot_table.reset_index()\n",
    "    return pivot_table "
   ]
  },
  {
   "cell_type": "markdown",
   "metadata": {
    "ExecuteTime": {
     "end_time": "2016-11-30T18:48:14.679437",
     "start_time": "2016-11-30T18:48:14.674660"
    }
   },
   "source": [
    "### Map points to pixel list\n",
    "\n",
    "Next, we want to map interesections to the pixel list. \n",
    "\n",
    "The function we defined is more general and can be used to map any kind of points to the pixel list (think for example about public buildings or customers). However, this is outside the scope of this project. "
   ]
  },
  {
   "cell_type": "code",
   "execution_count": 8,
   "metadata": {
    "ExecuteTime": {
     "end_time": "2016-12-14T19:40:59.037321",
     "start_time": "2016-12-14T19:40:59.021321"
    },
    "code_folding": [
     0
    ],
    "collapsed": false
   },
   "outputs": [],
   "source": [
    "def map_points(points_df, pixel_list, column_title):\n",
    "    \"\"\" Points_df: Requires x and y column\n",
    "        column_title is title of column in pixel_list datafarme\"\"\"\n",
    "    \n",
    "    #Create list to keep track of frequency of points\n",
    "    points_frequency = []\n",
    "    \n",
    "    # Iterate over pixels\n",
    "    for pixel_id, pixel in pixel_list.iterrows():\n",
    "        # Explicitly define bounds of pixel\n",
    "        pixel_minx = pixel['minx']\n",
    "        pixel_miny = pixel['miny']\n",
    "        pixel_maxx = pixel['maxx']\n",
    "        pixel_maxy = pixel['maxy']\n",
    "        \n",
    "        # Filter points df based on bounds\n",
    "        points_in_pixel = points_df[(points_df['x'] < pixel_maxx) &\n",
    "                  (points_df['x'] >= pixel_minx) &\n",
    "                  (points_df['y'] < pixel_maxy) &\n",
    "                  (points_df['y'] >= pixel_miny)]\n",
    "        \n",
    "        # Store frequency for this pixel\n",
    "        points_frequency.append(points_in_pixel.shape[0])\n",
    "        \n",
    "    # Append data to pixel_list\n",
    "    pixel_list[column_title] = points_frequency\n",
    "    \n",
    "    return pixel_list"
   ]
  },
  {
   "cell_type": "markdown",
   "metadata": {
    "ExecuteTime": {
     "end_time": "2016-11-30T19:15:03.044827",
     "start_time": "2016-11-30T19:15:03.037476"
    }
   },
   "source": [
    "### Road capacity\n",
    "\n",
    "To to determine the road capacity in a pixel we have to take three steps. \n",
    "\n",
    "\\begin{enumerate}\n",
    "    \\item Find the road(segment)s inside a pixel\n",
    "    \\item Find the distance of each segment and multiply by its capacity\n",
    "    \\item Sum over all road(segment)s inside the pixel\n",
    "\\end{enumerate}\n",
    "\n",
    "2 and 3 are trivial, there are however some issues with 1. The following three situations can occur:\n",
    "\n",
    "\\begin{itemize}\n",
    "    \\item A roadsegment lies completely within the pixel (trivial)\n",
    "    \\item A roadsegment has a starting point in one pixel and an end point in another pixel\n",
    "    \\item A road segment crosses the pixel but has a start and end point in adjacent pixels\n",
    "\\end{itemize}"
   ]
  },
  {
   "cell_type": "markdown",
   "metadata": {},
   "source": [
    "#### Check if points or roads are in a pixel\n",
    "\n",
    "Based on the bounding box of each road and each pixel, we can determine if a road or a particular point is in the pixel. \n",
    "\n",
    "We define three different functions:\n",
    "\n",
    "1. Check if a particular point lies in the pixel\n",
    "2. Check if a line segment lies completely in the pixel\n",
    "3. Check if a line segment lies partly in a particular pixel"
   ]
  },
  {
   "cell_type": "code",
   "execution_count": 9,
   "metadata": {
    "ExecuteTime": {
     "end_time": "2016-12-14T19:40:59.056820",
     "start_time": "2016-12-14T19:40:59.039110"
    },
    "code_folding": [
     0,
     13,
     27
    ],
    "collapsed": true
   },
   "outputs": [],
   "source": [
    "def point_in_pixel(coordinate, minx, maxx, miny, maxy):\n",
    "    \n",
    "    # Check if coordinate is in pixel\n",
    "    if (coordinate[0] >= minx \n",
    "        and coordinate[0] <= maxx \n",
    "        and coordinate[1] >= miny \n",
    "        and coordinate[1] <= maxy):\n",
    "        \n",
    "        return True\n",
    "    \n",
    "    else:\n",
    "        return False\n",
    "def check_completely_in_pixel(road, minx, maxx, miny, maxy):\n",
    "    \n",
    "    if (road['minx'] >= minx \n",
    "        and road['maxx'] <= maxx \n",
    "        and road['miny'] >= miny \n",
    "        and road['maxy'] <= maxy):\n",
    "        \n",
    "        return True\n",
    "    \n",
    "    else:\n",
    "        \n",
    "        return False\n",
    "    \n",
    "    \n",
    "def check_partly_in_pixel(road, minx, maxx, miny, maxy):\n",
    "    \n",
    "    # Iterate over all coordiantes in road\n",
    "    for coordinate in road['road_coords']:\n",
    "        \n",
    "        # If one of the coordinates is in the pixel, return true\n",
    "        if (coordinate[0] >= minx \n",
    "            and coordinate[0] <= maxx \n",
    "            and coordinate[1] >= miny \n",
    "            and coordinate[1] <= maxy):\n",
    "\n",
    "            return True\n",
    "    \n",
    "    # If none of the coordinates is in the pixel, return false\n",
    "    return False"
   ]
  },
  {
   "cell_type": "markdown",
   "metadata": {},
   "source": [
    "#### Find new road coordinates for segments that are partly in the pixel\n",
    "\n",
    "If a line segment crosses the pixel boundary, we want to delete the coordinates from the road that are outside the pixel. However, we have to make sure that we allocate a part of the segment that crosses the pixel bounds to that pixel. We do so by finding the intersection between the segment and the bound, we 'determine the midpoint'. We can use this midpoint to 'create new road coordinates'. "
   ]
  },
  {
   "cell_type": "code",
   "execution_count": 10,
   "metadata": {
    "ExecuteTime": {
     "end_time": "2016-12-14T19:40:59.079750",
     "start_time": "2016-12-14T19:40:59.059471"
    },
    "code_folding": [
     0
    ],
    "collapsed": true
   },
   "outputs": [],
   "source": [
    "def create_new_road_coordinates(road, minx, maxx, miny, maxy):\n",
    "\n",
    "\n",
    "    # Find points that are in or out\n",
    "    node_in_pixel = []\n",
    "\n",
    "    # Iterate over nodes to check if they're in the pixel\n",
    "    for i in range(len(road)):\n",
    "        node_in_pixel.append(point_in_pixel(road[i], minx, maxx, miny, maxy))\n",
    "\n",
    "    # Create new node list\n",
    "    node_list = []\n",
    "\n",
    "    # Delete nodes that are out and for which the next one is out too, otherwise find midpoint\n",
    "    for i in range(len(road[:-1])):\n",
    "\n",
    "        # Check if current node is in\n",
    "        if node_in_pixel[i] == False:\n",
    "\n",
    "            #If subsequent node is in find midpoint\n",
    "            if node_in_pixel[i + 1] == True:\n",
    "\n",
    "                mid_point = determine_midpoint(road[i], road[i+1], minx, maxx, miny, maxy)\n",
    "                node_list.append(mid_point)\n",
    "        \n",
    "        else:\n",
    "            node_list.append(road[i])\n",
    "            \n",
    "             #If subsequent node is out find midpoint\n",
    "            if node_in_pixel[i + 1] == False:\n",
    "                mid_point = determine_midpoint(road[i], road[i+1], minx, maxx, miny, maxy)\n",
    "                node_list.append(mid_point)\n",
    "        \n",
    "        # Check if the last node is in\n",
    "        if i == len(road[:-1]) - 1:\n",
    "            if node_in_pixel[i + 1] == True:\n",
    "                node_list.append(road[i+1])\n",
    "\n",
    "    return node_list"
   ]
  },
  {
   "cell_type": "code",
   "execution_count": 11,
   "metadata": {
    "ExecuteTime": {
     "end_time": "2016-12-14T19:40:59.113657",
     "start_time": "2016-12-14T19:40:59.083848"
    },
    "code_folding": [
     0
    ],
    "collapsed": true
   },
   "outputs": [],
   "source": [
    "def determine_midpoint(point_1, point_2, minx, maxx, miny, maxy):\n",
    "\n",
    "    # Determine line\n",
    "    slope = (point_2[1] - point_1[1]) / (point_2[0] - point_1[0])\n",
    "    intercept = point_1[1] - slope * point_1[0]\n",
    "\n",
    "    # Check for each of the bounds if they are on the line segment\n",
    "    if (point_2[0] <= maxx and point_1[0] >= maxx) or (point_2[0] >= maxx and point_1[0] <= maxx):\n",
    "        # Find corresponding point\n",
    "        new_x = maxx\n",
    "        new_y = slope * new_x + intercept\n",
    "        new_point = [new_x, new_y]\n",
    "        \n",
    "        # Check if the newpoint is in the pixel, if so, we found our intersect\n",
    "        if point_in_pixel(new_point, minx, maxx, miny, maxy):\n",
    "            return new_point\n",
    "            \n",
    "    if (point_2[0] <= minx and point_1[0] >= minx) or (point_2[0] >= minx and point_1[0] <= minx):\n",
    "        # Find corresponding point\n",
    "        new_x = minx\n",
    "        new_y = slope * new_x + intercept\n",
    "        new_point = [new_x, new_y]\n",
    "        \n",
    "        # Check if the newpoint is in the pixel, if so, we found our intersect\n",
    "        if point_in_pixel(new_point, minx, maxx, miny, maxy):\n",
    "            return new_point\n",
    "            \n",
    "    if (point_2[1] <= maxy and point_1[1] >= maxy) or (point_2[1] >= maxy and point_1[1] <= maxy):\n",
    "        # Find corresponding point\n",
    "        new_y = maxy\n",
    "        new_x = (new_y - intercept) / slope\n",
    "        new_point = [new_x, new_y]\n",
    "        \n",
    "        # Check if the newpoint is in the pixel, if so, we found our intersect\n",
    "        if point_in_pixel(new_point, minx, maxx, miny, maxy):\n",
    "            return new_point\n",
    "            \n",
    "    if (point_2[1] <= miny and point_1[1] >= miny) or (point_2[1] >= miny and point_1[1] <= miny):\n",
    "        # Find corresponding point\n",
    "        new_y = miny\n",
    "        new_x = (new_y - intercept) / slope\n",
    "        new_point = [new_x, new_y]     \n",
    "        # Check if the newpoint is in the pixel, if so, we found our intersect\n",
    "        if point_in_pixel(new_point, minx, maxx, miny, maxy):\n",
    "            return new_point"
   ]
  },
  {
   "cell_type": "markdown",
   "metadata": {},
   "source": [
    "#### Find new road coordinates for segments that cross the pixel\n",
    "\n",
    "When the bounding box of a line segment overlaps with the pixel, but none of the endpoints lies within the pixel, we want to check every segment if it crosses the pixel. Therefore, we check for every segment if it intersects with two of the bounds (it always intersects with two, one to go in, one to go out). This function is slightly different than if a road is partly in the pixel, since we are looking for two intersections of the line with the pixel opposite to one. Therefore, we define two functions that are special cases of the once for a road that is partly in the pixel. "
   ]
  },
  {
   "cell_type": "code",
   "execution_count": 12,
   "metadata": {
    "ExecuteTime": {
     "end_time": "2016-12-14T19:40:59.125290",
     "start_time": "2016-12-14T19:40:59.115309"
    },
    "code_folding": [
     0
    ],
    "collapsed": true
   },
   "outputs": [],
   "source": [
    "def create_new_road_coordinates_crossing(road, minx, maxx, miny, maxy):\n",
    "\n",
    "    # Create new node list\n",
    "    node_list = []\n",
    "\n",
    "    # We know that none of the nodes is in the pixel, so we iterate over all nodes and check for crossing immediatly\n",
    "    for i in range(len(road[:-1])):\n",
    "\n",
    "            # Determine if a segment crosses the boundary\n",
    "            cross_points = determine_midpoint_crossing(road[i], road[i+1], minx, maxx, miny, maxy)\n",
    "\n",
    "            # If there are not cross points do nothing\n",
    "            # If there are two cross points that's the node list\n",
    "            if cross_points == None:\n",
    "                return node_list\n",
    "            else:\n",
    "                node_list = cross_points\n",
    "                return node_list"
   ]
  },
  {
   "cell_type": "code",
   "execution_count": 13,
   "metadata": {
    "ExecuteTime": {
     "end_time": "2016-12-14T19:40:59.164643",
     "start_time": "2016-12-14T19:40:59.130403"
    },
    "code_folding": [
     0
    ],
    "collapsed": true
   },
   "outputs": [],
   "source": [
    "def determine_midpoint_crossing(point_1, point_2, minx, maxx, miny, maxy):\n",
    "\n",
    "\n",
    "    # List of cross points\n",
    "\n",
    "    cross_points = []\n",
    "    # Determine line\n",
    "    slope = (point_2[1] - point_1[1]) / (point_2[0] - point_1[0])\n",
    "    intercept = point_1[1] - slope * point_1[0]\n",
    "\n",
    "    # Check for each of the bounds if they are on the line segment\n",
    "    if (point_2[0] <= maxx and point_1[0] >= maxx) or (point_2[0] >= maxx and point_1[0] <= maxx):\n",
    "        # Find corresponding point\n",
    "        new_x = maxx\n",
    "        new_y = slope * new_x + intercept\n",
    "        new_point = [new_x, new_y]\n",
    "\n",
    "        # Check if the newpoint is in the pixel, if so, we found our intersect\n",
    "        if point_in_pixel(new_point, minx, maxx, miny, maxy):\n",
    "            cross_points.append(new_point)\n",
    "\n",
    "    if (point_2[0] <= minx and point_1[0] >= minx) or (point_2[0] >= minx and point_1[0] <= minx):\n",
    "        # Find corresponding point\n",
    "        new_x = minx\n",
    "        new_y = slope * new_x + intercept\n",
    "        new_point = [new_x, new_y]\n",
    "\n",
    "        # Check if the newpoint is in the pixel, if so, we found our intersect\n",
    "        if point_in_pixel(new_point, minx, maxx, miny, maxy):\n",
    "            cross_points.append(new_point)\n",
    "\n",
    "    if (point_2[1] <= maxy and point_1[1] >= maxy) or (point_2[1] >= maxy and point_1[1] <= maxy):\n",
    "        # Find corresponding point\n",
    "        new_y = maxy\n",
    "        new_x = (new_y - intercept) / slope\n",
    "        new_point = [new_x, new_y]\n",
    "\n",
    "        # Check if the newpoint is in the pixel, if so, we found our intersect\n",
    "        if point_in_pixel(new_point, minx, maxx, miny, maxy):\n",
    "            cross_points.append(new_point)\n",
    "\n",
    "    if (point_2[1] <= miny and point_1[1] >= miny) or (point_2[1] >= miny and point_1[1] <= miny):\n",
    "        # Find corresponding point\n",
    "        new_y = miny\n",
    "        new_x = (new_y - intercept) / slope\n",
    "        new_point = [new_x, new_y]     \n",
    "        # Check if the newpoint is in the pixel, if so, we found our intersect\n",
    "        if point_in_pixel(new_point, minx, maxx, miny, maxy):\n",
    "            cross_points.append(new_point)\n",
    "\n",
    "    return cross_points"
   ]
  },
  {
   "cell_type": "markdown",
   "metadata": {},
   "source": [
    "#### Compute distance and capacity of segment\n",
    "\n",
    "Since line segments are always straight, we can easily determine the distance of a linesegment using the Euclidian distance. The sum of the segments of a road in a pixel determine the total distance of that particular road in the pixel.\n",
    "\n",
    "To determine road capacity, we multiply each road by a specific factor accounting for the number of lanes of that particular road. "
   ]
  },
  {
   "cell_type": "code",
   "execution_count": 14,
   "metadata": {
    "ExecuteTime": {
     "end_time": "2016-12-14T19:40:59.178998",
     "start_time": "2016-12-14T19:40:59.166565"
    },
    "code_folding": [
     1,
     14
    ],
    "collapsed": true
   },
   "outputs": [],
   "source": [
    "# compute length of road\n",
    "def compute_distance_road(road):\n",
    "    \n",
    "    # Keep track of distance\n",
    "    distance = 0\n",
    "    \n",
    "    # Iterate over road segments\n",
    "    for i in range(len(road) - 1):\n",
    "        distance = distance + np.linalg.norm(np.array(road[i]) - np.array(road[i + 1]))\n",
    "    \n",
    "    # Return distance in km\n",
    "    return distance / 1000\n",
    "\n",
    "# Based on the length of the road and the type of road, we can computed the road capacity\n",
    "def compute_capacity_road(road, road_type):\n",
    "    \n",
    "    # Keep track of distance\n",
    "    capacity = 0\n",
    "    \n",
    "    # Iterate over road segments\n",
    "    for i in range(len(road) - 1):\n",
    "        capacity = capacity + np.linalg.norm(np.array(road[i]) - np.array(road[i + 1])) * road_capacity_conversion[road_type]\n",
    "    \n",
    "    # Return distance in km\n",
    "    return capacity / 1000  "
   ]
  },
  {
   "cell_type": "markdown",
   "metadata": {},
   "source": [
    "#### Determine road capacity for a given type of road\n",
    "\n",
    "Combining all steps described above, we can define the road capacity and distance for a particular pixel."
   ]
  },
  {
   "cell_type": "code",
   "execution_count": 15,
   "metadata": {
    "ExecuteTime": {
     "end_time": "2016-12-14T19:40:59.248687",
     "start_time": "2016-12-14T19:40:59.181651"
    },
    "code_folding": [
     0
    ],
    "collapsed": true
   },
   "outputs": [],
   "source": [
    "def road_capacity_per_pixel(pixel, roads_list, road_types):\n",
    "    \n",
    "    # Ignore roads that are not allowed\n",
    "    roads_list = roads_list[roads_list['type'].isin(road_types)]\n",
    "    \n",
    "    # Explicitly define bounds of pixel\n",
    "    pixel_minx = pixel['minx']\n",
    "    pixel_miny = pixel['miny']\n",
    "    pixel_maxx = pixel['maxx']\n",
    "    pixel_maxy = pixel['maxy']\n",
    "\n",
    "    # Filter road bounding boxes for overlap \n",
    "    roads_in_pixel = roads_list[roads_list['maxx'] >= pixel_minx]\n",
    "    roads_in_pixel = roads_in_pixel[roads_in_pixel['minx'] <= pixel_maxx]\n",
    "    roads_in_pixel = roads_in_pixel[roads_in_pixel['miny'] <= pixel_maxy]\n",
    "    roads_in_pixel = roads_in_pixel[roads_in_pixel['maxy'] >= pixel_miny]\n",
    "    \n",
    "    #### Find roads completely in pixel ####\n",
    "    # Create cleaned dataframe \n",
    "    roads_in_pixel_clean = pd.DataFrame(columns = roads_in_pixel.columns)\n",
    "\n",
    "    # Keep track of road is completely in pixel\n",
    "    list_completely_in_pixel = []\n",
    "\n",
    "    # Iterate over roads\n",
    "    for road_id, road in roads_in_pixel.iterrows():\n",
    "        #Check if road bounding box falls completely within pixel\n",
    "        completely_in_pixel = check_completely_in_pixel(road, pixel_minx, pixel_maxx, pixel_miny, pixel_maxy)\n",
    "\n",
    "        if completely_in_pixel:\n",
    "            list_completely_in_pixel.append(road_id)\n",
    "\n",
    "    roads_in_pixel_clean = roads_in_pixel.loc[list_completely_in_pixel]\n",
    "    roads_not_completely_in_pixel = roads_in_pixel.drop(list_completely_in_pixel, axis = 0)   \n",
    "\n",
    "    # Remaining roads in pixel are not completely in pixel\n",
    "\n",
    "    #### Find roads with at least one coordiante in the pixel ####\n",
    "    # Keep track of roads that have one or more coordinates in pixel\n",
    "    list_partly_in_pixel = []\n",
    "\n",
    "    # Iterate over roads partly in pixel\n",
    "    for road_id, road in roads_not_completely_in_pixel.iterrows():\n",
    "        partly_in_pixel = check_partly_in_pixel(road, pixel_minx, pixel_maxx, pixel_miny, pixel_maxy)\n",
    "\n",
    "        if partly_in_pixel:\n",
    "            list_partly_in_pixel.append(road_id)\n",
    "\n",
    "    # Update dataframe with roads partly in pixel\n",
    "    roads_partly_in_pixel = roads_not_completely_in_pixel.loc[list_partly_in_pixel]\n",
    "\n",
    "    # Create datafarme for roads potentially crossing the pixel\n",
    "    roads_potentially_crossing_pixel = roads_not_completely_in_pixel.drop(list_partly_in_pixel, axis = 0)\n",
    "\n",
    "    # Allocate correct portion of roads to pixel\n",
    "    for road_id, road in roads_partly_in_pixel.iterrows():\n",
    "        roads_partly_in_pixel.set_value(road_id, 'road_coords', create_new_road_coordinates(road['road_coords'], pixel_minx, pixel_maxx, pixel_miny, pixel_maxy))\n",
    "\n",
    "    # Update clean pixel list with updated roads\n",
    "    roads_in_pixel_clean = roads_in_pixel_clean.append(roads_partly_in_pixel)\n",
    "\n",
    "    ### Find roads that potentially cross the pixel ####\n",
    "    for road_id, road in roads_potentially_crossing_pixel.iterrows():\n",
    "        roads_potentially_crossing_pixel.set_value(road_id, 'road_coords', create_new_road_coordinates_crossing(road['road_coords'], pixel_minx, pixel_maxx, pixel_miny, pixel_maxy))\n",
    "\n",
    "    # Append to clean dataframe\n",
    "    roads_in_pixel_clean = roads_in_pixel_clean.append(roads_potentially_crossing_pixel)\n",
    "    \n",
    "    # Compute road_capacity\n",
    "    road_capacity_column = []\n",
    "    road_distance_column = []\n",
    "    \n",
    "    # Iterate over all roads\n",
    "    for index, road in roads_in_pixel.iterrows():\n",
    "        road_capacity_column.append(compute_capacity_road(road['road_coords'], road['type']))\n",
    "        road_distance_column.append(compute_distance_road(road['road_coords']))\n",
    "        \n",
    "    roads_in_pixel_clean['road_length'] = road_distance_column\n",
    "    roads_in_pixel_clean['road_capacity'] = road_capacity_column\n",
    "    \n",
    "    return roads_in_pixel_clean"
   ]
  },
  {
   "cell_type": "markdown",
   "metadata": {
    "ExecuteTime": {
     "end_time": "2016-12-02T20:17:56.586161",
     "start_time": "2016-12-02T20:17:56.583034"
    }
   },
   "source": [
    "### Determine road capacity"
   ]
  },
  {
   "cell_type": "markdown",
   "metadata": {},
   "source": [
    "To determine the road capacity for each pixel, we iterate over all pixels. We have defined different functions for roads and railroads, since we ware interested in different characteristics. However, the functions defined above are general and can be used for both road and railroad capacity. "
   ]
  },
  {
   "cell_type": "code",
   "execution_count": 16,
   "metadata": {
    "ExecuteTime": {
     "end_time": "2016-12-14T19:40:59.319537",
     "start_time": "2016-12-14T19:40:59.251015"
    },
    "code_folding": [
     0
    ],
    "collapsed": false,
    "scrolled": true
   },
   "outputs": [],
   "source": [
    "def road_capacity(pixel_list, roads_list, road_types):\n",
    "\n",
    "    # The new columns we want to store for our pixels\n",
    "    \n",
    "    # Road distance\n",
    "    road_distance_column = []\n",
    "    road_distance_including_highway_column = []\n",
    "    \n",
    "    # Road capcity\n",
    "    road_capacity_column = []\n",
    "    road_capacity_including_highway_column = []\n",
    "    \n",
    "    # For road capacity one way, we exclude highways and primary roads\n",
    "    road_capacity_one_way_column = []\n",
    "    road_distance_one_way_column = []\n",
    "    \n",
    "    \n",
    "    # Binary variabels to see if there is a bridge or a tunnel\n",
    "    bridge_column = []\n",
    "    tunnel_column = []\n",
    "    \n",
    "    # Highways are motorways or trunks and their links, we store a binary variable\n",
    "    highway_column = []\n",
    "    \n",
    "    for pixel_id, pixel in pixel_list.iterrows():\n",
    "        roads_in_pixel = road_capacity_per_pixel(pixel, roads_list, road_types)\n",
    "        \n",
    "        ####### Time to start collect info about the roads in the pixel and adding it to the pixel_list datafarme #######\n",
    "        \n",
    "        road_capacity_column.append(roads_in_pixel[~roads_in_pixel['type'].isin(['motorway', 'motorway_link', \n",
    "                                                    'trunk', 'trunk_link'])]['road_capacity'].sum())\n",
    "        \n",
    "        # Check if there are highways\n",
    "        road_capacity_including_highway_column.append(roads_in_pixel['road_capacity'].sum())\n",
    "\n",
    "        # Road distance\n",
    "        road_distance_column.append(roads_in_pixel[~roads_in_pixel['type'].isin(['motorway', 'motorway_link', \n",
    "                                                    'trunk', 'trunk_link'])]['road_length'].sum())\n",
    "        \n",
    "        # Check if there are highways\n",
    "        road_distance_including_highway_column.append(roads_in_pixel['road_length'].sum())\n",
    "            \n",
    "        # For road capacity one way, we exclude highways and primary roads\n",
    "        # Filter road type\n",
    "        roads_in_pixel_one_way = roads_in_pixel[~roads_in_pixel['type'].isin(['motorway', 'motorway_link', \n",
    "                                                    'trunk', 'trunk_link','primary', 'primary_link'])]\n",
    "        # Filter one ways\n",
    "        roads_in_pixel_one_way = roads_in_pixel_one_way[roads_in_pixel_one_way['oneway'] == 1]\n",
    "        \n",
    "        road_capacity_one_way_column.append(roads_in_pixel_one_way['road_capacity'].sum())\n",
    "        road_distance_one_way_column.append(roads_in_pixel_one_way['road_length'].sum())\n",
    "        \n",
    "        # Check binary variables\n",
    "        # Motorway\n",
    "        if len(roads_in_pixel[roads_in_pixel['type'].isin(['motorway', 'motorway_link', \n",
    "                                                    'trunk', 'trunk_link'])]) > 0:\n",
    "            highway_column.append(1)\n",
    "        else:\n",
    "            highway_column.append(0)\n",
    "        \n",
    "        # Bridge\n",
    "        if roads_in_pixel['bridge'].sum() > 0:\n",
    "            bridge_column.append(1)\n",
    "        else:\n",
    "            bridge_column.append(0)\n",
    "        \n",
    "        # Tunnel\n",
    "        if roads_in_pixel['tunnel'].sum() > 0:\n",
    "            tunnel_column.append(1)\n",
    "        else:\n",
    "            tunnel_column.append(0)\n",
    "        \n",
    "    ### Append columns to dataframe\n",
    "    pixel_list['road_capacity'] = road_capacity_column\n",
    "    pixel_list['road_capacity_incl_highway'] = road_capacity_including_highway_column\n",
    "    pixel_list['road_capacity_highway'] = pixel_list['road_capacity_incl_highway'] - pixel_list['road_capacity']\n",
    "    pixel_list['oneway_capacity'] = road_capacity_one_way_column\n",
    "    pixel_list['oneway_percentage'] = pixel_list['oneway_capacity'] / (pixel_list['road_capacity'] + 0.0001)\n",
    "    pixel_list['road_distance'] = road_distance_column\n",
    "    pixel_list['road_distance_incl_highway'] = road_distance_including_highway_column\n",
    "    pixel_list['road_distance_highway'] = pixel_list['road_distance_incl_highway'] - pixel_list['road_distance']\n",
    "    pixel_list['oneway_distance'] = road_distance_one_way_column\n",
    "    pixel_list['oneway_dist_percentage'] = pixel_list['oneway_distance'] / (pixel_list['road_distance'] + 0.0001)\n",
    "    pixel_list['highway_bin'] = highway_column\n",
    "    pixel_list['bridge_bin'] = bridge_column\n",
    "    pixel_list['tunnel_bin'] = tunnel_column\n",
    "\n",
    "        \n",
    "    return pixel_list\n",
    "    \n",
    "    "
   ]
  },
  {
   "cell_type": "code",
   "execution_count": 17,
   "metadata": {
    "ExecuteTime": {
     "end_time": "2016-12-14T19:40:59.331343",
     "start_time": "2016-12-14T19:40:59.322549"
    },
    "code_folding": [
     0
    ],
    "collapsed": false,
    "scrolled": false
   },
   "outputs": [],
   "source": [
    "def rail_road(pixel_list, roads_list, road_types):\n",
    "\n",
    "    # Specify column to keep track\n",
    "    rail_column = []\n",
    "    \n",
    "    # Iterate over pixels\n",
    "    for pixel_id, pixel in pixel_list.iterrows():\n",
    "        roads_in_pixel = road_capacity_per_pixel(pixel, roads_list, road_types)\n",
    "    \n",
    "        # Apply values\n",
    "        if roads_in_pixel['road_capacity'].sum() > 0:\n",
    "            rail_column.append(1)\n",
    "        else:\n",
    "            rail_column.append(0)\n",
    "        \n",
    "    pixel_list['rail_bin'] = rail_column\n",
    "    \n",
    "    return pixel_list\n",
    "    "
   ]
  },
  {
   "cell_type": "markdown",
   "metadata": {},
   "source": [
    "A similar process is followed for waterways, but we have to remember to read a different file for waterways. "
   ]
  },
  {
   "cell_type": "code",
   "execution_count": 18,
   "metadata": {
    "ExecuteTime": {
     "end_time": "2016-12-14T19:40:59.347540",
     "start_time": "2016-12-14T19:40:59.334133"
    },
    "code_folding": [
     0
    ],
    "collapsed": false
   },
   "outputs": [],
   "source": [
    "def waterway(pixel_list, roads_list, road_types):\n",
    "\n",
    "    # Specify column to keep track\n",
    "    waterway_column = []\n",
    "    waterway_distance_column = []\n",
    "    \n",
    "    # Iterate over pixels\n",
    "    for pixel_id, pixel in pixel_list.iterrows():\n",
    "        roads_in_pixel = road_capacity_per_pixel(pixel, roads_list, road_types)\n",
    "    \n",
    "        # Apply values\n",
    "        if roads_in_pixel['road_capacity'].sum() > 0:\n",
    "            waterway_column.append(1)\n",
    "        else:\n",
    "            waterway_column.append(0)\n",
    "            \n",
    "        waterway_distance_column.append(roads_in_pixel['road_length'].sum())\n",
    "        \n",
    "    pixel_list['waterway_bin'] = waterway_column\n",
    "    pixel_list['waterway_distance'] = waterway_distance_column \n",
    "    \n",
    "    return pixel_list\n",
    "    "
   ]
  },
  {
   "cell_type": "markdown",
   "metadata": {},
   "source": [
    "## Parameter definition\n",
    "\n",
    "We need to define several parameters that are used independent of the different cities. "
   ]
  },
  {
   "cell_type": "code",
   "execution_count": 19,
   "metadata": {
    "ExecuteTime": {
     "end_time": "2016-12-14T19:40:59.379379",
     "start_time": "2016-12-14T19:40:59.350433"
    },
    "collapsed": true
   },
   "outputs": [],
   "source": [
    "# Define road capacity conversion table\n",
    "road_capacity_conversion = {}\n",
    "road_capacity_conversion['motorway'] = 4\n",
    "road_capacity_conversion['motorway_link'] = 4\n",
    "road_capacity_conversion['trunk'] = 4\n",
    "road_capacity_conversion['trunk_link'] = 4\n",
    "road_capacity_conversion['primary'] = 3\n",
    "road_capacity_conversion['primary_link'] = 3\n",
    "road_capacity_conversion['secondary'] = 3\n",
    "road_capacity_conversion['secondary_link'] = 3\n",
    "road_capacity_conversion['tertiary'] = 2\n",
    "road_capacity_conversion['tertiary_link'] = 2\n",
    "road_capacity_conversion['unclassified'] = 1\n",
    "road_capacity_conversion['residential'] = 1\n",
    "road_capacity_conversion['pedestrian'] = 1\n",
    "road_capacity_conversion['road'] = 1\n",
    "road_capacity_conversion['living_street'] = 1\n",
    "road_capacity_conversion['service'] = 1\n",
    "road_capacity_conversion['footway'] = 1\n",
    "road_capacity_conversion['steps'] = 1\n",
    "road_capacity_conversion['cycleway'] = 1\n",
    "road_capacity_conversion['subway'] = 1\n",
    "road_capacity_conversion['rail'] = 1\n",
    "road_capacity_conversion['track'] = 1\n",
    "road_capacity_conversion['path'] = 1\n",
    "road_capacity_conversion['disused'] = 1\n",
    "road_capacity_conversion['raceway'] = 1\n",
    "road_capacity_conversion['funicular'] = 1\n",
    "road_capacity_conversion['tram'] = 1\n",
    "road_capacity_conversion['pier'] = 1\n",
    "road_capacity_conversion['bridleway'] = 1\n",
    "road_capacity_conversion['monorail'] = 1\n",
    "road_capacity_conversion['preserved'] = 1\n",
    "\n",
    "# Define waterway capacity conversion table\n",
    "road_capacity_conversion['river'] = 1\n",
    "road_capacity_conversion['cannal'] = 1\n",
    "road_capacity_conversion['drain'] = 0\n",
    "road_capacity_conversion['stream'] = 0\n",
    "road_capacity_conversion['ditch'] = 0\n",
    "road_capacity_conversion['canal'] = 1\n",
    "\n",
    "# Specify relevant road_types\n",
    "road_types = ['motorway', 'motorway_link', 'trunk', 'trunk_link', 'primary', 'primary_link',\n",
    "                           'secondary', 'secondary_link', 'tertiary', 'tertiary_link', 'residential', 'road',\n",
    "                           'living_street', 'unclassified']"
   ]
  },
  {
   "cell_type": "markdown",
   "metadata": {
    "collapsed": true
   },
   "source": [
    "\n",
    "## Run Code\n",
    "\n",
    "### Read OSM Files and Pixel List"
   ]
  },
  {
   "cell_type": "code",
   "execution_count": 20,
   "metadata": {
    "ExecuteTime": {
     "end_time": "2016-12-14T19:41:35.503601",
     "start_time": "2016-12-14T19:40:59.381928"
    },
    "collapsed": false
   },
   "outputs": [
    {
     "ename": "IOError",
     "evalue": "no such file or directory: '00 - City_OSM_files/sao-paulo_brazil_colorado/sao-paulo_brazil_waterways.geojson'",
     "output_type": "error",
     "traceback": [
      "\u001b[0;31m---------------------------------------------------------------------------\u001b[0m",
      "\u001b[0;31mIOError\u001b[0m                                   Traceback (most recent call last)",
      "\u001b[0;32m<ipython-input-20-fa3cbc1f8168>\u001b[0m in \u001b[0;36m<module>\u001b[0;34m()\u001b[0m\n\u001b[1;32m      1\u001b[0m \u001b[0;31m# Read OSM files and pixel list\u001b[0m\u001b[0;34m\u001b[0m\u001b[0;34m\u001b[0m\u001b[0m\n\u001b[1;32m      2\u001b[0m \u001b[0mroad_list\u001b[0m \u001b[0;34m=\u001b[0m \u001b[0mextract_OSM_data\u001b[0m\u001b[0;34m(\u001b[0m\u001b[0;34m'00 - City_OSM_files/sao-paulo_brazil/sao-paulo_brazil_roads.geojson'\u001b[0m\u001b[0;34m)\u001b[0m\u001b[0;34m\u001b[0m\u001b[0m\n\u001b[0;32m----> 3\u001b[0;31m \u001b[0mwaterway_list\u001b[0m \u001b[0;34m=\u001b[0m \u001b[0mextract_OSM_data\u001b[0m\u001b[0;34m(\u001b[0m\u001b[0;34m'00 - City_OSM_files/sao-paulo_brazil_colorado/sao-paulo_brazil_waterways.geojson'\u001b[0m\u001b[0;34m)\u001b[0m\u001b[0;34m\u001b[0m\u001b[0m\n\u001b[0m\u001b[1;32m      4\u001b[0m \u001b[0mpixel_list\u001b[0m \u001b[0;34m=\u001b[0m \u001b[0mread_pixel_list\u001b[0m\u001b[0;34m(\u001b[0m\u001b[0;34m'01 - City_Pixel_list/pixel_list_SaoPaulo.xlsx'\u001b[0m\u001b[0;34m)\u001b[0m\u001b[0;34m\u001b[0m\u001b[0m\n",
      "\u001b[0;32m<ipython-input-2-46b834f1621d>\u001b[0m in \u001b[0;36mextract_OSM_data\u001b[0;34m(file_name)\u001b[0m\n\u001b[1;32m      1\u001b[0m \u001b[0;32mdef\u001b[0m \u001b[0mextract_OSM_data\u001b[0m\u001b[0;34m(\u001b[0m\u001b[0mfile_name\u001b[0m\u001b[0;34m)\u001b[0m\u001b[0;34m:\u001b[0m\u001b[0;34m\u001b[0m\u001b[0m\n\u001b[1;32m      2\u001b[0m \u001b[0;34m\u001b[0m\u001b[0m\n\u001b[0;32m----> 3\u001b[0;31m     \u001b[0mnetwork\u001b[0m \u001b[0;34m=\u001b[0m \u001b[0mgpd\u001b[0m\u001b[0;34m.\u001b[0m\u001b[0mread_file\u001b[0m\u001b[0;34m(\u001b[0m\u001b[0mfile_name\u001b[0m\u001b[0;34m)\u001b[0m\u001b[0;34m\u001b[0m\u001b[0m\n\u001b[0m\u001b[1;32m      4\u001b[0m     \u001b[0;31m# Plot network\u001b[0m\u001b[0;34m\u001b[0m\u001b[0;34m\u001b[0m\u001b[0m\n\u001b[1;32m      5\u001b[0m     \u001b[0;31m# SP_roads.plot(figsize=(5,5))\u001b[0m\u001b[0;34m\u001b[0m\u001b[0;34m\u001b[0m\u001b[0m\n",
      "\u001b[0;32m//anaconda/lib/python2.7/site-packages/geopandas/io/file.pyc\u001b[0m in \u001b[0;36mread_file\u001b[0;34m(filename, **kwargs)\u001b[0m\n\u001b[1;32m     19\u001b[0m     \"\"\"\n\u001b[1;32m     20\u001b[0m     \u001b[0mbbox\u001b[0m \u001b[0;34m=\u001b[0m \u001b[0mkwargs\u001b[0m\u001b[0;34m.\u001b[0m\u001b[0mpop\u001b[0m\u001b[0;34m(\u001b[0m\u001b[0;34m'bbox'\u001b[0m\u001b[0;34m,\u001b[0m \u001b[0mNone\u001b[0m\u001b[0;34m)\u001b[0m\u001b[0;34m\u001b[0m\u001b[0m\n\u001b[0;32m---> 21\u001b[0;31m     \u001b[0;32mwith\u001b[0m \u001b[0mfiona\u001b[0m\u001b[0;34m.\u001b[0m\u001b[0mopen\u001b[0m\u001b[0;34m(\u001b[0m\u001b[0mfilename\u001b[0m\u001b[0;34m,\u001b[0m \u001b[0;34m**\u001b[0m\u001b[0mkwargs\u001b[0m\u001b[0;34m)\u001b[0m \u001b[0;32mas\u001b[0m \u001b[0mf\u001b[0m\u001b[0;34m:\u001b[0m\u001b[0;34m\u001b[0m\u001b[0m\n\u001b[0m\u001b[1;32m     22\u001b[0m         \u001b[0mcrs\u001b[0m \u001b[0;34m=\u001b[0m \u001b[0mf\u001b[0m\u001b[0;34m.\u001b[0m\u001b[0mcrs\u001b[0m\u001b[0;34m\u001b[0m\u001b[0m\n\u001b[1;32m     23\u001b[0m         \u001b[0;32mif\u001b[0m \u001b[0mbbox\u001b[0m \u001b[0;32mis\u001b[0m \u001b[0;32mnot\u001b[0m \u001b[0mNone\u001b[0m\u001b[0;34m:\u001b[0m\u001b[0;34m\u001b[0m\u001b[0m\n",
      "\u001b[0;32m//anaconda/lib/python2.7/site-packages/fiona/__init__.pyc\u001b[0m in \u001b[0;36mopen\u001b[0;34m(path, mode, driver, schema, crs, encoding, layer, vfs, enabled_drivers, crs_wkt)\u001b[0m\n\u001b[1;32m    163\u001b[0m                 \u001b[0;32mraise\u001b[0m \u001b[0mIOError\u001b[0m\u001b[0;34m(\u001b[0m\u001b[0;34m\"no such archive file: %r\"\u001b[0m \u001b[0;34m%\u001b[0m \u001b[0marchive\u001b[0m\u001b[0;34m)\u001b[0m\u001b[0;34m\u001b[0m\u001b[0m\n\u001b[1;32m    164\u001b[0m         \u001b[0;32melif\u001b[0m \u001b[0mpath\u001b[0m \u001b[0;34m!=\u001b[0m \u001b[0;34m'-'\u001b[0m \u001b[0;32mand\u001b[0m \u001b[0;32mnot\u001b[0m \u001b[0mos\u001b[0m\u001b[0;34m.\u001b[0m\u001b[0mpath\u001b[0m\u001b[0;34m.\u001b[0m\u001b[0mexists\u001b[0m\u001b[0;34m(\u001b[0m\u001b[0mpath\u001b[0m\u001b[0;34m)\u001b[0m\u001b[0;34m:\u001b[0m\u001b[0;34m\u001b[0m\u001b[0m\n\u001b[0;32m--> 165\u001b[0;31m             \u001b[0;32mraise\u001b[0m \u001b[0mIOError\u001b[0m\u001b[0;34m(\u001b[0m\u001b[0;34m\"no such file or directory: %r\"\u001b[0m \u001b[0;34m%\u001b[0m \u001b[0mpath\u001b[0m\u001b[0;34m)\u001b[0m\u001b[0;34m\u001b[0m\u001b[0m\n\u001b[0m\u001b[1;32m    166\u001b[0m         c = Collection(path, mode, driver=driver, encoding=encoding,\n\u001b[1;32m    167\u001b[0m                        \u001b[0mlayer\u001b[0m\u001b[0;34m=\u001b[0m\u001b[0mlayer\u001b[0m\u001b[0;34m,\u001b[0m \u001b[0mvsi\u001b[0m\u001b[0;34m=\u001b[0m\u001b[0mvsi\u001b[0m\u001b[0;34m,\u001b[0m \u001b[0marchive\u001b[0m\u001b[0;34m=\u001b[0m\u001b[0marchive\u001b[0m\u001b[0;34m,\u001b[0m\u001b[0;34m\u001b[0m\u001b[0m\n",
      "\u001b[0;31mIOError\u001b[0m: no such file or directory: '00 - City_OSM_files/sao-paulo_brazil_colorado/sao-paulo_brazil_waterways.geojson'"
     ]
    }
   ],
   "source": [
    "# Read OSM files and pixel list\n",
    "road_list = extract_OSM_data('00 - City_OSM_files/sao-paulo_brazil/sao-paulo_brazil_roads.geojson')\n",
    "waterway_list = extract_OSM_data('00 - City_OSM_files/sao-paulo_brazil_colorado/sao-paulo_brazil_waterways.geojson')\n",
    "pixel_list = read_pixel_list('01 - City_Pixel_list/pixel_list_SaoPaulo.xlsx')\n"
   ]
  },
  {
   "cell_type": "markdown",
   "metadata": {
    "ExecuteTime": {
     "end_time": "2016-12-14T19:38:24.985605",
     "start_time": "2016-12-14T19:38:24.982127"
    }
   },
   "source": [
    "### Process and translate roads to UTM"
   ]
  },
  {
   "cell_type": "code",
   "execution_count": null,
   "metadata": {
    "ExecuteTime": {
     "end_time": "2016-12-14T19:41:35.504395",
     "start_time": "2016-12-15T00:40:52.384Z"
    },
    "collapsed": false
   },
   "outputs": [],
   "source": [
    "# Convert and prepare roads\n",
    "road_list = find_road_bounds(road_list)\n",
    "road_list = convert_linestring_to_UTM(road_list)"
   ]
  },
  {
   "cell_type": "markdown",
   "metadata": {},
   "source": [
    "### Find intersections"
   ]
  },
  {
   "cell_type": "code",
   "execution_count": null,
   "metadata": {
    "ExecuteTime": {
     "end_time": "2016-12-14T19:41:35.504720",
     "start_time": "2016-12-15T00:40:52.417Z"
    },
    "collapsed": false
   },
   "outputs": [],
   "source": [
    "# Find intersections\n",
    "coordinates_df = find_coordinates_relevant_road_types(road_list, road_types)\n",
    "intersections = road_connecitivity(coordinates_df)\n",
    "pixel_list = map_points(intersections, pixel_list, 'road_connectivity')"
   ]
  },
  {
   "cell_type": "markdown",
   "metadata": {},
   "source": [
    "### Find road capacity"
   ]
  },
  {
   "cell_type": "code",
   "execution_count": null,
   "metadata": {
    "ExecuteTime": {
     "end_time": "2016-12-14T19:41:35.505033",
     "start_time": "2016-12-15T00:40:52.448Z"
    },
    "collapsed": false
   },
   "outputs": [],
   "source": [
    "#Add roads to pixel\n",
    "pixel_list = road_capacity(pixel_list, road_list, road_types)   "
   ]
  },
  {
   "cell_type": "markdown",
   "metadata": {},
   "source": [
    "### Process railroad data"
   ]
  },
  {
   "cell_type": "code",
   "execution_count": null,
   "metadata": {
    "ExecuteTime": {
     "end_time": "2016-12-14T19:41:35.505336",
     "start_time": "2016-12-15T00:40:52.480Z"
    },
    "collapsed": true
   },
   "outputs": [],
   "source": [
    "#Add railroads to pixel\n",
    "pixel_list = rail_road(pixel_list, road_list, ['rail'])"
   ]
  },
  {
   "cell_type": "markdown",
   "metadata": {},
   "source": [
    "### Process waterway data"
   ]
  },
  {
   "cell_type": "code",
   "execution_count": null,
   "metadata": {
    "ExecuteTime": {
     "end_time": "2016-12-14T19:41:35.505623",
     "start_time": "2016-12-15T00:40:52.516Z"
    },
    "collapsed": false
   },
   "outputs": [],
   "source": [
    "# Convert and prepare waterways\n",
    "waterway_list = find_road_bounds(waterway_list)\n",
    "waterway_list = convert_linestring_to_UTM(waterway_list)\n",
    "\n",
    "# Add waterways to pixel\n",
    "pixel_list = waterway(pixel_list, waterway_list, waterway_list['type'].unique())"
   ]
  },
  {
   "cell_type": "markdown",
   "metadata": {
    "ExecuteTime": {
     "end_time": "2016-12-14T19:40:08.238562",
     "start_time": "2016-12-14T19:40:08.235255"
    }
   },
   "source": [
    "### Write output as excel file"
   ]
  },
  {
   "cell_type": "code",
   "execution_count": null,
   "metadata": {
    "ExecuteTime": {
     "end_time": "2016-12-14T19:41:35.505916",
     "start_time": "2016-12-15T00:40:52.551Z"
    },
    "collapsed": false
   },
   "outputs": [],
   "source": [
    "pixel_list.to_excel('02 - City_Output/Test.xlsx', columns = ['pixelid', 'population', 'road_connectivity', 'road_capacity', 'road_capacity_incl_highway', 'road_capacity_highway', \n",
    "                                                                 'road_distance', 'road_distance_incl_highway', 'road_distance_highway', 'oneway_distance', 'oneway_dist_percentage',\n",
    "           'oneway_capacity', 'oneway_percentage', 'highway_bin', 'bridge_bin', 'tunnel_bin', 'rail_bin', \n",
    "           'waterway_bin', 'waterway_distance'])\n"
   ]
  }
 ],
 "metadata": {
  "kernelspec": {
   "display_name": "Python 2",
   "language": "python",
   "name": "python2"
  },
  "language_info": {
   "codemirror_mode": {
    "name": "ipython",
    "version": 2
   },
   "file_extension": ".py",
   "mimetype": "text/x-python",
   "name": "python",
   "nbconvert_exporter": "python",
   "pygments_lexer": "ipython2",
   "version": "2.7.12"
  },
  "latex_envs": {
   "bibliofile": "biblio.bib",
   "cite_by": "apalike",
   "current_citInitial": 1,
   "eqLabelWithNumbers": true,
   "eqNumInitial": 0
  },
  "toc": {
   "nav_menu": {
    "height": "318px",
    "width": "252px"
   },
   "navigate_menu": true,
   "number_sections": true,
   "sideBar": true,
   "threshold": 4,
   "toc_cell": false,
   "toc_position": {
    "height": "963px",
    "left": "0px",
    "right": "auto",
    "top": "106px",
    "width": "215px"
   },
   "toc_section_display": "block",
   "toc_window_display": true
  }
 },
 "nbformat": 4,
 "nbformat_minor": 0
}

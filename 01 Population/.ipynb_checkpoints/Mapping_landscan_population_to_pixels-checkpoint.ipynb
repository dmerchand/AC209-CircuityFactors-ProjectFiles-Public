{
 "cells": [
  {
   "cell_type": "markdown",
   "metadata": {},
   "source": [
    "# Mapping Population to Pixels\n",
    "\n",
    "\n",
    "*MIT Megacity Logistics Lab*(c): Daniel Merchan <dmerchan@mit.edu>, Andre Snoeck <asnoeck@mit.edu>\n",
    "\n",
    "\n",
    "\n",
    "**Summary**: This script can be used to map LandScan population cells to a list of pixels\n",
    "\n",
    "Input data requirements:\n",
    "- Origin point coordinates (lower left corner of the pixel grid)\n",
    "- Number of kilometers in the horizontal axis (longitude)\n",
    "- Number of kilometers in the veritcal axis (latitute)\n",
    "- Populations files\n",
    "\n",
    "**Case Studies**: Sao Paulo, San Francisco, Denver"
   ]
  },
  {
   "cell_type": "markdown",
   "metadata": {},
   "source": [
    "This script processes and analyses two sets of data:\n",
    "1. GeoSpatial data - Maps population data (LandScan) to create a rectangular grid over a city or ***pixels***. \n",
    "\n",
    "The total size of the grid must be defined by the user based upon each case study. For instance, for **Sao Paulo**, the size to cover the entire metropolitan area is approximately 75 km (vertical axis) x 100 km (horizontal axis). \n",
    "\n",
    "Furthremore, the size/area of each pixel might vary based on visualization/modeling considerations. The minimum pixel size for this code is 1 sq.km. "
   ]
  },
  {
   "cell_type": "markdown",
   "metadata": {},
   "source": [
    "** Run time **: ~ 2-30  minutes (depending on the city size)\n"
   ]
  },
  {
   "cell_type": "markdown",
   "metadata": {},
   "source": [
    "## References\n",
    "\n",
    "- LandsScan:\n",
    "This product was made utilizing the LandScan (insert dataset year)™ High Resolution global Population Data Set copyrighted by UT-Battelle, LLC, operator of Oak Ridge National Laboratory under Contract No. DE-AC05-00OR22725 with the United States Department of Energy.  The United States Government has certain rights in this Data Set.  Neither UT-BATTELLE, LLC NOR THE UNITED STATES DEPARTMENT OF ENERGY, NOR ANY OF THEIR EMPLOYEES, MAKES ANY WARRANTY, EXPRESS OR IMPLIED, OR ASSUMES ANY LEGAL LIABILITY OR RESPONSIBILITY FOR THE ACCURACY, COMPLETENESS, OR USEFULNESS OF THE DATA SET\n"
   ]
  },
  {
   "cell_type": "markdown",
   "metadata": {},
   "source": [
    "Import Python libraries and functions from other scripts"
   ]
  },
  {
   "cell_type": "code",
   "execution_count": 7,
   "metadata": {
    "collapsed": false
   },
   "outputs": [],
   "source": [
    "# Basic numeric libraries\n",
    "import numpy as np\n",
    "import math as m\n",
    "import pandas as pd\n",
    "pd.options.mode.chained_assignment = None\n",
    "#pd.options.display.max_columns = 20\n",
    "from scipy import stats\n",
    "from __future__ import division\n",
    "\n",
    "# Library to handle geometric objects: \n",
    "from shapely.geometry import Point, MultiPoint, box, Polygon \n",
    "\n",
    "# Libraries for data visualization\n",
    "import matplotlib.pyplot as plt\n",
    "%matplotlib inline\n",
    "import seaborn as sns\n",
    "sns.set(color_codes=True)\n",
    "\n",
    "#Libraries for handling temporal data or monitoring processing time\n",
    "import datetime as dt\n",
    "import time\n",
    "\n",
    "# Libraries for statistical analysis\n",
    "import statsmodels.api as sm\n",
    "import statsmodels.formula.api as smf\n",
    "\n",
    "#System libraries\n",
    "import utm\n",
    "import sys\n",
    "import random\n",
    "from __future__ import division\n",
    "import os\n",
    "import csv"
   ]
  },
  {
   "cell_type": "markdown",
   "metadata": {},
   "source": [
    "\n",
    "Key definitions:\n",
    "- **urbgrid**: Grid of datacells or pixels to wich data (orders, customer locations, population, etc) will be mapped.\n",
    "+ **pixel**: Each cell within the grid. Default size: 1 sq.km.\n",
    "\n",
    "\n",
    "### 1. City Settings: Select city and specify grid origin point"
   ]
  },
  {
   "cell_type": "code",
   "execution_count": 31,
   "metadata": {
    "collapsed": false
   },
   "outputs": [],
   "source": [
    "#city =  'Sao Paulo'\n",
    "city =  'Denver'\n",
    "#city =  'San Francisco'\n",
    "\n",
    "#Dictionaries below allow for handling several cities at the same time"
   ]
  },
  {
   "cell_type": "markdown",
   "metadata": {},
   "source": [
    "Define the coordinates the lower-left corner of the city grid."
   ]
  },
  {
   "cell_type": "code",
   "execution_count": 32,
   "metadata": {
    "collapsed": false
   },
   "outputs": [
    {
     "name": "stdout",
     "output_type": "stream",
     "text": [
      "                     lat        lon         utm_n          utm_e  utm_z_n  \\\n",
      "Sao Paulo     -23.929093  -47.07104  7.352078e+06  289206.026809     23.0   \n",
      "Denver         39.158596 -105.83495  4.334708e+06  427861.373250     13.0   \n",
      "San Francisco  36.603832 -122.79453  4.050945e+06  518376.333318     10.0   \n",
      "\n",
      "              utm_z_l  \n",
      "Sao Paulo           K  \n",
      "Denver              S  \n",
      "San Francisco       S  \n"
     ]
    }
   ],
   "source": [
    "origins = pd.DataFrame({'lat': (-23.929093, 39.158596, 36.603832),\n",
    "                        'lon': (-47.071040, -105.83495, -122.79453)},\n",
    "                       index = ['Sao Paulo','Denver','San Francisco'])\n",
    "\n",
    "\n",
    "# Conver Lat-lon coordinates to UTM coordinates. This is conversion is necesary to project the lat-lon system in a \n",
    "# 2 dimensional system.\n",
    "\n",
    "for index, row in origins.iterrows():\n",
    "    [east, north, zone_n, zone_l] = utm.from_latlon(row['lat'], row['lon'])\n",
    "    origins.ix[index,'utm_n'] = north\n",
    "    origins.ix[index, 'utm_e'] = east\n",
    "    origins.ix[index, 'utm_z_n'] = zone_n\n",
    "    origins.ix[index, 'utm_z_l'] = zone_l\n",
    "\n",
    "print origins"
   ]
  },
  {
   "cell_type": "markdown",
   "metadata": {},
   "source": [
    "Create a bounding box around the city. The dictionary xy_dim specifies the vertical and horizontal extension of the box. "
   ]
  },
  {
   "cell_type": "code",
   "execution_count": 33,
   "metadata": {
    "collapsed": true
   },
   "outputs": [],
   "source": [
    "xy_dim = pd.DataFrame({'x_dim': (100, 144, 144),\n",
    "                       'y_dim': (75, 176, 176)},\n",
    "                      index = ['Sao Paulo','Denver','San Francisco'])"
   ]
  },
  {
   "cell_type": "code",
   "execution_count": 34,
   "metadata": {
    "collapsed": false
   },
   "outputs": [
    {
     "name": "stdout",
     "output_type": "stream",
     "text": [
      "Bounding box created for Denver\n"
     ]
    }
   ],
   "source": [
    "origin_city = Point(origins.loc[city]['utm_e'], origins.loc[city]['utm_n'])\n",
    "\n",
    "citybox = box(origin_city.x, origin_city.y, \n",
    "              origin_city.x + xy_dim.loc[city]['x_dim']*1000, origin_city.y + xy_dim.loc[city]['y_dim']*1000)\n",
    "print 'Bounding box created for', city"
   ]
  },
  {
   "cell_type": "markdown",
   "metadata": {},
   "source": [
    "Next, we define a fountion to generate the multiple grids needed"
   ]
  },
  {
   "cell_type": "code",
   "execution_count": 35,
   "metadata": {
    "collapsed": true
   },
   "outputs": [],
   "source": [
    "'''\n",
    "To create a grid of (x_dim)*(y_dim) pixels/cells\n",
    "Input\n",
    "- x_dim: horizontal pixel dimension\n",
    "- y_dim: vertical pixel dimension\n",
    "- city_box: city's bounding box\n",
    "- margin: Default = 0. useful for small areas only. It helps accommodate factions of population data in the borders of the cell.\n",
    "    \n",
    "Output \n",
    "- grid: \n",
    "'''\n",
    "\n",
    "def getgrid(dim_x, dim_y, citybox, margin = 0):\n",
    "    \n",
    "    # Exterior coordinates of citybox are given starting at the bottom right corner \n",
    "    # of the box (x1, y0), countercklecwise: (x1, y0), (x1,y1), (x0, y1), (x0,y0) \n",
    "    #& again (x1, y0) \n",
    "    \n",
    "  \n",
    "    \n",
    "    #Start grid from bottom-left corner \n",
    "    corner = Point(citybox.exterior.coords[3])\n",
    "    origin = Point(citybox.exterior.coords[3])\n",
    "    grid = [[]]\n",
    "    j=0 #\n",
    "    #i=0 # \n",
    "    while (corner.y+ dim_y <= citybox.bounds[3] + margin):\n",
    "        while (corner.x+ dim_x<= citybox.bounds[2]+ margin):\n",
    "            grid[j].append(Polygon([(corner.x, corner.y),\n",
    "                                    (corner.x+dim_x, corner.y),\n",
    "                                    (corner.x+dim_x, corner.y+dim_y),\n",
    "                                    (corner.x, corner.y+dim_y)]))\n",
    "            corner = Point(corner.x+dim_x,corner.y)\n",
    "        j+=1\n",
    "        origin = Point(citybox.exterior.coords[3])\n",
    "        corner = Point(origin.x, origin.y + j*dim_y)\n",
    "        if corner.y+dim_y <= (citybox.bounds[3]+margin):\n",
    "            grid.append([])\n",
    "    print 'Grid created'\n",
    "    return grid"
   ]
  },
  {
   "cell_type": "markdown",
   "metadata": {},
   "source": [
    "Define pixel size. For now: 1000 m x 1000 m. "
   ]
  },
  {
   "cell_type": "code",
   "execution_count": 36,
   "metadata": {
    "collapsed": false
   },
   "outputs": [
    {
     "name": "stdout",
     "output_type": "stream",
     "text": [
      "Grid created\n"
     ]
    }
   ],
   "source": [
    "pix_dim_x = 1000\n",
    "pix_dim_y = 1000\n",
    "\n",
    "# Create urbgrid\n",
    "urbgrid = getgrid(pix_dim_x, pix_dim_y, citybox)"
   ]
  },
  {
   "cell_type": "markdown",
   "metadata": {},
   "source": [
    "## 2. Read and process population data from LandScan\n",
    "Population counts will be maped to each pixel/datacell:\n",
    "1. Read population data from LandScan\n",
    "+ Create **lsgrid** to standarize LandScan cell sizes (see explanation below)\n",
    "\n",
    "Reading LandScan population for each city"
   ]
  },
  {
   "cell_type": "code",
   "execution_count": 37,
   "metadata": {
    "collapsed": false
   },
   "outputs": [
    {
     "data": {
      "text/html": [
       "<div>\n",
       "<table border=\"1\" class=\"dataframe\">\n",
       "  <thead>\n",
       "    <tr style=\"text-align: right;\">\n",
       "      <th></th>\n",
       "      <th>lat</th>\n",
       "      <th>lon</th>\n",
       "      <th>population</th>\n",
       "      <th>utm_n</th>\n",
       "      <th>utm_e</th>\n",
       "      <th>utm_z_n</th>\n",
       "      <th>utm_z_l</th>\n",
       "    </tr>\n",
       "  </thead>\n",
       "  <tbody>\n",
       "    <tr>\n",
       "      <th>0</th>\n",
       "      <td>40.770833</td>\n",
       "      <td>-105.412500</td>\n",
       "      <td>0</td>\n",
       "      <td>4.513400e+06</td>\n",
       "      <td>465188.193833</td>\n",
       "      <td>13.0</td>\n",
       "      <td>T</td>\n",
       "    </tr>\n",
       "    <tr>\n",
       "      <th>1</th>\n",
       "      <td>40.770833</td>\n",
       "      <td>-105.404167</td>\n",
       "      <td>0</td>\n",
       "      <td>4.513396e+06</td>\n",
       "      <td>465891.461591</td>\n",
       "      <td>13.0</td>\n",
       "      <td>T</td>\n",
       "    </tr>\n",
       "    <tr>\n",
       "      <th>2</th>\n",
       "      <td>40.770833</td>\n",
       "      <td>-105.395833</td>\n",
       "      <td>0</td>\n",
       "      <td>4.513393e+06</td>\n",
       "      <td>466594.737680</td>\n",
       "      <td>13.0</td>\n",
       "      <td>T</td>\n",
       "    </tr>\n",
       "    <tr>\n",
       "      <th>3</th>\n",
       "      <td>40.770833</td>\n",
       "      <td>-105.387500</td>\n",
       "      <td>0</td>\n",
       "      <td>4.513390e+06</td>\n",
       "      <td>467298.005225</td>\n",
       "      <td>13.0</td>\n",
       "      <td>T</td>\n",
       "    </tr>\n",
       "    <tr>\n",
       "      <th>4</th>\n",
       "      <td>40.770833</td>\n",
       "      <td>-105.379167</td>\n",
       "      <td>0</td>\n",
       "      <td>4.513387e+06</td>\n",
       "      <td>468001.272666</td>\n",
       "      <td>13.0</td>\n",
       "      <td>T</td>\n",
       "    </tr>\n",
       "  </tbody>\n",
       "</table>\n",
       "</div>"
      ],
      "text/plain": [
       "         lat         lon  population         utm_n          utm_e  utm_z_n  \\\n",
       "0  40.770833 -105.412500           0  4.513400e+06  465188.193833     13.0   \n",
       "1  40.770833 -105.404167           0  4.513396e+06  465891.461591     13.0   \n",
       "2  40.770833 -105.395833           0  4.513393e+06  466594.737680     13.0   \n",
       "3  40.770833 -105.387500           0  4.513390e+06  467298.005225     13.0   \n",
       "4  40.770833 -105.379167           0  4.513387e+06  468001.272666     13.0   \n",
       "\n",
       "  utm_z_l  \n",
       "0       T  \n",
       "1       T  \n",
       "2       T  \n",
       "3       T  \n",
       "4       T  "
      ]
     },
     "execution_count": 37,
     "metadata": {},
     "output_type": "execute_result"
    }
   ],
   "source": [
    "\n",
    "if city == 'Sao Paulo':\n",
    "    city_pop = pd.read_csv('input/saopaulo-pop.csv')\n",
    "elif city == 'Denver':\n",
    "    city_pop = pd.read_csv('input/denver-pop.csv')\n",
    "elif city == 'San Francisco':\n",
    "    city_pop = pd.read_csv('input/sfo-pop.csv')\n",
    "\n",
    "for index, row in city_pop.iterrows():\n",
    "    [east, north, zone_n, zone_l] = utm.from_latlon(row['lat'], row['lon'])\n",
    "    city_pop.ix[index,'utm_n'] = north\n",
    "    city_pop.ix[index,'utm_e'] = east\n",
    "    city_pop.ix[index,'utm_z_n'] = zone_n\n",
    "    city_pop.ix[index,'utm_z_l'] = zone_l\n",
    "#print the first few row to verify\n",
    "city_pop.head()\n"
   ]
  },
  {
   "cell_type": "markdown",
   "metadata": {},
   "source": [
    "Create grid to standarize LandScan cells. The need for standardized cells arises form the fact that the exact landscan cell size varies by lattitude and longitude( even within the same city, the size of each cell varies). Then we need to define an 'averag' landscan cell size to creat our grid. \n",
    "\n",
    "The size of the \"standard\" LandScan cell size varies by city. For this first iteration, this analysis was done offline. \n",
    "\n",
    "Refer to LandScan's site for more information: http://web.ornl.gov/sci/landscan/landscan_faq.shtml#04"
   ]
  },
  {
   "cell_type": "code",
   "execution_count": 38,
   "metadata": {
    "collapsed": false
   },
   "outputs": [
    {
     "name": "stdout",
     "output_type": "stream",
     "text": [
      "Grid created\n"
     ]
    }
   ],
   "source": [
    "#The location of Sao Paulo results in lat-long cells of aporx. 850*915. For San Jose - SFO those are # 738 * 927\n",
    "\n",
    "ls_dim = pd.DataFrame({'cel_dim_x': (850, 715, 738),\n",
    "                       'cel_dim_y': (915, 925, 930)},\n",
    "                      index = ['Sao Paulo','Denver','San Francisco'])\n",
    "\n",
    "# Buffer to capture those cell that fall <500 m of the border \n",
    "# box_margin = 500\n",
    "\n",
    "lsgrid = getgrid(ls_dim.loc[city,'cel_dim_x'], ls_dim.loc[city,'cel_dim_y'], citybox)"
   ]
  },
  {
   "cell_type": "markdown",
   "metadata": {},
   "source": [
    "Map landscan centroids to **lsgrid**. Since **lsgrid** is a set of poligons that cannot contain data, we generate a parallel matrix pop_losgrid with the mapped population values. We should not expect a 100% mapping since the area selected from Landscan can't be specified with precision and might differ in size from the area used to create the city bounding box. We expect these differences to be irrelevant."
   ]
  },
  {
   "cell_type": "code",
   "execution_count": 40,
   "metadata": {
    "collapsed": false
   },
   "outputs": [],
   "source": [
    "#Extract Population, utem_n and utm_e to a 2-dim array\n",
    "city_pop_asg = city_pop[['population','utm_e', 'utm_n']].as_matrix()\n",
    "\n",
    "pop_lsgrid = [[]]\n",
    "for j in xrange(len(lsgrid)): # to iterate over all rows of the grid\n",
    "    # filter orders within row j using the utm_n colum (x[2])\n",
    "    filtered_cell = filter(\n",
    "        lambda x: x[2]>=lsgrid[j][0].bounds[1] and x[2]<lsgrid[j][0].bounds[3], city_pop_asg)\n",
    "    #filtered points are filtered again and assigned to a cell    \n",
    "    for i in xrange(len(lsgrid[0])): #to iterate over all pixels (columns) within each row\n",
    "        # filter orders within row j using the utm_n colum (x[2]) \n",
    "        assigned_cell = filter(\n",
    "            lambda x: x[1]>=lsgrid[0][i].bounds[0] and x[1]<lsgrid[0][i].bounds[2], filtered_cell)\n",
    "        # create the orders-grid containing the number of orders in each pixel\n",
    "        pop_lsgrid[j].append(sum(assigned_cell[i][0] for i in xrange (len(assigned_cell))))\n",
    "    if j < len(lsgrid)-1:\n",
    "        pop_lsgrid.append([])"
   ]
  },
  {
   "cell_type": "code",
   "execution_count": 41,
   "metadata": {
    "collapsed": false
   },
   "outputs": [
    {
     "name": "stdout",
     "output_type": "stream",
     "text": [
      "Total population imported from LandScan: 3533965\n",
      "Total population mapped to lsgrid: 3533102.0\n",
      "% Population mapped 99.9755798374 %\n"
     ]
    }
   ],
   "source": [
    "print \"Total population imported from LandScan:\", city_pop['population'].sum()\n",
    "print \"Total population mapped to lsgrid:\", sum(map(sum, pop_lsgrid))\n",
    "print \"% Population mapped\", (sum(map(sum, pop_lsgrid))/city_pop['population'].sum())*100, \"%\""
   ]
  },
  {
   "cell_type": "markdown",
   "metadata": {},
   "source": [
    "## 3. Mapping LandScan population to pixels\n",
    "\n",
    "\n",
    "Once LandScan population counts have been mapped to a standard (**lsgrid**) grid, we can now map them to the pixels (**urbgrid**). Similarly, we generate a new matrix pop_urbgrid (same size as urbgrid). "
   ]
  },
  {
   "cell_type": "code",
   "execution_count": 42,
   "metadata": {
    "collapsed": true
   },
   "outputs": [],
   "source": [
    "'''\n",
    "To map data from a landscan grid to a grid of pixels. Since the size of the landscan grid cell is equal or smaller than 1 sq.km. (pixel size),\n",
    "we need to iterate over each ls cell and assign the population proportion accordingly. \n",
    "Input:\n",
    "- small_pix_grid (polygons): This is generally the landscan polygons grid, aka 'lsgrid'\n",
    "- big_pix_grid (polygons): This is the grid of polygons to which population data will be mapped, aka 'urbgrid'. \n",
    "- population_grid (data): population informatio to be mapped, aka pop_lsgrid\n",
    "\n",
    "Output:\n",
    "- pop_mapped_grid(data): grid of pixels containing population data. Size should be equal as big_pix_grid.  \n",
    "\n",
    "'''\n",
    "\n",
    "\n",
    "def MapPopulationtoGrid(small_pix_grid, big_pix_grid, population_grid):\n",
    "    \n",
    "    print 'Start time:', time.ctime()\n",
    "    \n",
    "\n",
    "    #Initialize indexes for big_pix_grid j, i\n",
    "    i=0\n",
    "    j=0\n",
    "    # matrix to store each pixel's population count\n",
    "    pop_mapped_grid = [[0 for x in xrange (len(big_pix_grid[0]))] for y in xrange (len(big_pix_grid))]\n",
    "    \n",
    "    \n",
    "    \n",
    "    #iterate over the landscan grid\n",
    "    for y in xrange (len(small_pix_grid)):\n",
    "        #print 'y', y\n",
    "        if (i < (len(big_pix_grid)-1)):\n",
    "            j=0\n",
    "            for x in xrange (len(small_pix_grid[y])):\n",
    "                #print 'x', x\n",
    "                if (small_pix_grid[y][x].intersects(big_pix_grid[i+1][j]) == False):\n",
    "                    #print 'Case l'\n",
    "                    #case 1: lscell only within one urbgrid row\n",
    "                    if ((small_pix_grid[y][x].within(big_pix_grid[i][j]) == True) or (j == (len(big_pix_grid[i])-1))):\n",
    "                        #print 'Case 1.1'\n",
    "                        #case 1.1: data cell within landscan cell\"\n",
    "                        #Assign the entire population of this lscell to the corresponding urbgrid cell\n",
    "                        pop_mapped_grid[i][j] += population_grid[y][x]\n",
    "\n",
    "                    elif (small_pix_grid[y][x].intersects(big_pix_grid[i][j]) == True) and (small_pix_grid[y][x].intersects(big_pix_grid[i][j+1]) == True):\n",
    "                        #print 'Case 1.2'\n",
    "                        #\"case 1.2: lscell intersects 2 landscan cells horizontally\"\n",
    "                        area_inters = small_pix_grid[y][x].intersection(big_pix_grid[i][j])\n",
    "                        area_inters_next = small_pix_grid[y][x].intersection(big_pix_grid[i][j+1])\n",
    "                        #Assign population by the corresponding fraction\n",
    "                        pop_mapped_grid[i][j] += (((area_inters.area)/(small_pix_grid[y][x].area))*(population_grid[y][x]))\n",
    "                        pop_mapped_grid[i][j+1] += (((area_inters_next.area)/(small_pix_grid[y][x].area))*(population_grid[y][x]))\n",
    "                        \n",
    "                        #to move one column in the big_pix_grid, after reaching an intersection\n",
    "                        if j <= (len(big_pix_grid[i]) - 2):\n",
    "                            j+=1\n",
    "                        else:\n",
    "                            #Finish iteration over the row\n",
    "                            x = len(small_pix_grid[y])\n",
    "                else:\n",
    "                    #print 'Case 2'\n",
    "                    #case 2: lscell intersect two urbgird cell rows\n",
    "                    if (j < (len(big_pix_grid[i])-1)):\n",
    "                        if (small_pix_grid[y][x].intersects(big_pix_grid[i][j+1]) == True):\n",
    "                            #case 2.2: lscell intersects upper row and 2 urbgrid cells horizontally\"\n",
    "                            area_inters = small_pix_grid[y][x].intersection(big_pix_grid[i][j])\n",
    "                            area_inters_next = small_pix_grid[y][x].intersection(big_pix_grid[i][j+1])\n",
    "                            area_inters_up = small_pix_grid[y][x].intersection(big_pix_grid[i+1][j])\n",
    "                            area_inters_up_next = small_pix_grid[y][x].intersection(big_pix_grid[i+1][j+1])\n",
    "                            \n",
    "                            pop_mapped_grid[i][j] += (((area_inters.area)/(small_pix_grid[y][x].area))*(population_grid[y][x]))\n",
    "                            \n",
    "                            pop_mapped_grid[i][j+1] += ((area_inters_next.area)/(small_pix_grid[y][x].area))*(population_grid[y][x])\n",
    "                            \n",
    "                            pop_mapped_grid[i+1][j] += ((area_inters_up.area)/(small_pix_grid[y][x].area))*(population_grid[y][x]) \n",
    "                            \n",
    "                            pop_mapped_grid[i+1][j+1] += ((area_inters_up_next.area)/(small_pix_grid[y][x].area))*(population_grid[y][x])\n",
    "                            \n",
    "                            \n",
    "                            #to move one column in the big_pix_grid, after reaching an intersection\n",
    "                            if j <= (len(big_pix_grid[i]) - 2):\n",
    "                                j+=1\n",
    "                            else:\n",
    "                                #Finish iteration over the row\n",
    "                                x = len(small_pix_grid[y])\n",
    "                                \n",
    "                        else:\n",
    "                            #print \"case 2.1: ls cell overlaps with upper row urbgrid cells but there is no horizontal intersection\"\n",
    "                            area_inters = small_pix_grid[y][x].intersection(big_pix_grid[i][j])\n",
    "                            area_inters_up = small_pix_grid[y][x].intersection(big_pix_grid[i+1][j])\n",
    "                            pop_mapped_grid[i][j] += ((area_inters.area)/(small_pix_grid[y][x].area))*(population_grid[y][x])\n",
    "                            pop_mapped_grid[i+1][j] += ((area_inters_up.area)/(small_pix_grid[y][x].area))*(population_grid[y][x])\n",
    "                            \n",
    "                    \n",
    "                    elif (j == (len(big_pix_grid[i])-1)):\n",
    "                            #print \"case 2.3 when reaching the horizontal border\"\n",
    "                            area_inters = small_pix_grid[y][x].intersection(big_pix_grid[i][j])\n",
    "                            area_inters_up = small_pix_grid[y][x].intersection(big_pix_grid[i+1][j])\n",
    "                            pop_mapped_grid[i][j] += ((area_inters.area)/(small_pix_grid[y][x].area))*(population_grid[y][x])\n",
    "                            pop_mapped_grid[i+1][j] += ((area_inters_up.area)/(small_pix_grid[y][x].area))*(population_grid[y][x])\n",
    "                            \n",
    "                            \n",
    "                    # To move one row up in the big_pix_grid only ofter after the loop signals an intersection across two row\n",
    "                    if (x == (len(small_pix_grid[y])-1)):\n",
    "                        i+=1\n",
    "                        #print 'i',i\n",
    "                        \n",
    "                        \n",
    "            pop_mapped_grid.append([])\n",
    "\n",
    "        #For the topmost row in the big_pix_grid, there can't be intersections with another upper row, then only a subset \n",
    "        #of the cases (i.e. 1.1. and 1.2 apply)\n",
    "        elif (i == (len(big_pix_grid)-1)):\n",
    "            #print 'top row'\n",
    "            j=0\n",
    "            #\"Special case: top row of big_pix_grid\n",
    "            for x in xrange (len(small_pix_grid[y])):\n",
    "                #case 1: datcells only within one landscan cell rows\n",
    "                if ((small_pix_grid[y][x].within(big_pix_grid[i][j]) == True) or (j == (len(big_pix_grid[i])-1))):\n",
    "                    pop_mapped_grid[i][j] += population_grid[y][x]\n",
    "\n",
    "                elif (small_pix_grid[y][x].intersects(big_pix_grid[i][j]) == True) and (small_pix_grid[y][x].intersects(big_pix_grid[i][j+1]) == True):\n",
    "                    #print \"case 1.2X: data cell intersects 2 landscan cells horizontally\"\n",
    "                    area_inters = small_pix_grid[y][x].intersection(big_pix_grid[i][j])\n",
    "                    area_inters_next = small_pix_grid[y][x].intersection(big_pix_grid[i][j+1])\n",
    "                    pop_mapped_grid[i][j] += (((area_inters.area)/(small_pix_grid[y][x].area))*(population_grid[y][x]))\n",
    "                    pop_mapped_grid[i][j+1] += (((area_inters_next.area)/(small_pix_grid[y][x].area))*(population_grid[y][x]))\n",
    "    \n",
    "                    if j <= (len(big_pix_grid[i]) - 2):\n",
    "                        j+=1\n",
    "                else:\n",
    "                    pop_mapped_grid[y].append(0)\n",
    "\n",
    "            if (y < (len(big_pix_grid))-1):\n",
    "                pop_mapped_grid.append([])\n",
    "                \n",
    "    print 'End time:', time.ctime()\n",
    "                \n",
    "    return pop_mapped_grid"
   ]
  },
  {
   "cell_type": "code",
   "execution_count": 43,
   "metadata": {
    "collapsed": false
   },
   "outputs": [
    {
     "name": "stdout",
     "output_type": "stream",
     "text": [
      "Start time: Fri Dec  2 15:49:19 2016\n",
      "End time: Fri Dec  2 15:50:04 2016\n"
     ]
    }
   ],
   "source": [
    "pop_urbgrid = MapPopulationtoGrid(lsgrid, urbgrid, pop_lsgrid)"
   ]
  },
  {
   "cell_type": "code",
   "execution_count": 44,
   "metadata": {
    "collapsed": false
   },
   "outputs": [
    {
     "name": "stdout",
     "output_type": "stream",
     "text": [
      "Total population mapped to lsgrid: 3533102.0\n",
      "Total population mapped to urbgrid: 3533102.0\n",
      "% Population mapped 100.0 %\n"
     ]
    }
   ],
   "source": [
    "sum_pop_lsgrid = sum(map(sum, pop_lsgrid))\n",
    "sum_pop_urbgrid = sum(map(sum, pop_urbgrid))\n",
    "\n",
    "print \"Total population mapped to lsgrid:\", sum_pop_lsgrid\n",
    "print \"Total population mapped to urbgrid:\", sum_pop_urbgrid\n",
    "print \"% Population mapped\", sum_pop_urbgrid/ sum_pop_lsgrid*100, \"%\""
   ]
  },
  {
   "cell_type": "markdown",
   "metadata": {},
   "source": [
    "## 4. Process and export results"
   ]
  },
  {
   "cell_type": "markdown",
   "metadata": {},
   "source": [
    "Generate a dataframe of pixels"
   ]
  },
  {
   "cell_type": "code",
   "execution_count": 45,
   "metadata": {
    "collapsed": false
   },
   "outputs": [],
   "source": [
    "# to convert both grids to a list of sq.kms. (ie. pixels) with lat-lon data \n",
    "def get_pixel_list(urbgrid, pop_urbgrid):\n",
    "    print 'Start time:', time.ctime()\n",
    "    pixel_list = [[0 for j in range(0,6)] for k in xrange(len(urbgrid)*len(urbgrid[0]))]\n",
    "    k = 0 \n",
    "    for i in xrange(len(urbgrid)):\n",
    "        for j in xrange(len(urbgrid[0])): \n",
    "            (Lat, Lon) = utm.to_latlon(urbgrid[i][j].centroid.x, urbgrid[i][j].centroid.y,\n",
    "                                     origins.loc[city]['utm_z_n'], origins.loc[city]['utm_z_l'] )\n",
    "            pixel_list[k][1] = Lat                         #Latiude in decimal degrees   \n",
    "            pixel_list[k][2] = Lon                         #Longitude in decimal degrees\n",
    "            pixel_list[k][3] = urbgrid[i][j].centroid.y    #Northing   \n",
    "            pixel_list[k][4] = urbgrid[i][j].centroid.x    #Easting\n",
    "            pixel_list[k][5] = round(pop_urbgrid[i][j])    # population\n",
    "            k+=1\n",
    "    pixel_list_df = pd.DataFrame(pixel_list)\n",
    "    pixel_list_df.columns = ['pixel_ID','lat', 'lon', 'utm_n', 'utm_e','population']\n",
    "    pixel_list_df['pixel_ID'] = pixel_list_df.index.values\n",
    "    \n",
    "    pixel_list_df[['pixel_ID','population']] = pixel_list_df[['pixel_ID','population']].astype(int)\n",
    "    print 'End time:', time.ctime()\n",
    "    return pixel_list_df\n",
    "\n",
    "###\n",
    "# The polygon of each pixel could also be printed by adding:\n",
    "#datacell_list[k][5] = urbgrid[i][j]         "
   ]
  },
  {
   "cell_type": "code",
   "execution_count": 46,
   "metadata": {
    "collapsed": false
   },
   "outputs": [
    {
     "name": "stdout",
     "output_type": "stream",
     "text": [
      "Start time: Fri Dec  2 15:50:04 2016\n",
      "End time: Fri Dec  2 15:50:16 2016\n"
     ]
    }
   ],
   "source": [
    "pixel_list = get_pixel_list(urbgrid, pop_urbgrid)"
   ]
  },
  {
   "cell_type": "code",
   "execution_count": 47,
   "metadata": {
    "collapsed": false
   },
   "outputs": [],
   "source": [
    "#Export results \n",
    "if city == 'Sao Paulo':\n",
    "    pixel_list.to_csv('output/SP_pixels_population.csv', index = False)\n",
    "elif city == 'Denver':\n",
    "    pixel_list.to_csv('output/Denver_pixels_population.csv', index = False)\n",
    "elif city == 'San Francisco':\n",
    "    pixel_list.to_csv('output/SFO_pixels_population.csv', index = False)"
   ]
  },
  {
   "cell_type": "code",
   "execution_count": null,
   "metadata": {
    "collapsed": true
   },
   "outputs": [],
   "source": []
  }
 ],
 "metadata": {
  "kernelspec": {
   "display_name": "Python 2",
   "language": "python",
   "name": "python2"
  },
  "language_info": {
   "codemirror_mode": {
    "name": "ipython",
    "version": 2
   },
   "file_extension": ".py",
   "mimetype": "text/x-python",
   "name": "python",
   "nbconvert_exporter": "python",
   "pygments_lexer": "ipython2",
   "version": "2.7.11"
  },
  "toc": {
   "nav_menu": {
    "height": "170px",
    "width": "253px"
   },
   "navigate_menu": true,
   "number_sections": false,
   "sideBar": true,
   "threshold": 4,
   "toc_cell": false,
   "toc_section_display": "block",
   "toc_window_display": false
  }
 },
 "nbformat": 4,
 "nbformat_minor": 0
}

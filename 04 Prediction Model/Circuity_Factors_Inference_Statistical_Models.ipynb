{
 "cells": [
  {
   "cell_type": "markdown",
   "metadata": {
    "ExecuteTime": {
     "end_time": "2016-11-25T10:55:24.232258",
     "start_time": "2016-11-25T10:55:12.443265"
    },
    "collapsed": true
   },
   "source": [
    "# Circuity Factors - Inference Model\n",
    "\n",
    "\n",
    "*MIT Megacity Logistics Lab*(c)\n",
    "\n",
    "- André Snoeck <asnoeck@mit.edu>\n",
    "+ Daniel Merchan <dmerchan@mit.edu>\n",
    "\n",
    "**This code may contain confidential and sensitive information. Please do not distribute.**\n",
    "\n",
    "## Summary\n",
    "\n",
    "The aim of this code is to explore different statistical models to predict the circuity factor using a specific set of predictors. After developing several different models to describe the data, we are able to evaluate the performance of those models and make a trade-off about the most appropriate model for our particular dataset.\n",
    "\n",
    "The code can be split into two parts. \n",
    "\n",
    "### General functions\n",
    "\n",
    "The first part of the code defines general functions, that are not tied to a particular dataset. Those functions are based on the methods we learned during Harvard's Data Science class, AC209a, and we aim to use those in other projects as well. \n",
    "\n",
    "The first set of functions are data preparation functions\n",
    "- Load data\n",
    "- Split data - To create a training and testing set\n",
    "- Create x & y - To split the predictors and the independent variable\n",
    "- Standardize data\n",
    "- Polynomial transformation\n",
    "\n",
    "The second set of functions creates different kinds of prediction models based on the test set. A general structure is followed for these models. Based on cross validation on the training set, the optimal tuning parameters are determined. As a result, the function will return the configuration of the model that best describes our data. \n",
    "\n",
    "We implemented the following numerical prediction models\n",
    "- Linear regression\n",
    "- Ridge and lasso regression (tuning parameter is alpha)\n",
    "- Random forests (tuning parameters are number of trees and tree depth)\n",
    "\n",
    "Furthermore, we implemented functions for forward and backward stepwise subset selection. \n",
    "\n",
    "For classification, we implemented the following models\n",
    "- Logistics regression (tuning parameter is C)\n",
    "- Random forests (tuning parameters are number of trees and tree depth)\n",
    "\n",
    "Naturally, these models can be fed with different predictors, including polynomial combinations of the predictors. \n",
    "\n",
    "For a more in depth look at the functions for the different models, we refer to the doc strings. \n",
    "\n",
    "### Circuity factor application \n",
    "\n",
    "In this application, we use the functions described above to compare the performance of different models in terms of descriptive and predictive power. Furthermore, we will use the results of this data to analyze the effect of the different predictors that account for circuity in a pixel. \n",
    "\n",
    "We analyze both regression as well as classification models. Often, for network planning, practitioners will be interested in the actual value of circuity factor. However, if policy makers at the local government want to understand and influence the circuity factors and in practice it is impossible to develop urban planning initiatives for each individual pixel. A more natural way for practitioners to digest the large amount of pixels is to think of them in clusters of pixels with similar characteristics and the government will set-up different urban planning strategies for each cluster of pixels."
   ]
  },
  {
   "cell_type": "markdown",
   "metadata": {},
   "source": [
    "## Code Setup"
   ]
  },
  {
   "cell_type": "code",
   "execution_count": 1,
   "metadata": {
    "ExecuteTime": {
     "end_time": "2016-12-14T22:23:20.448222",
     "start_time": "2016-12-14T22:23:19.245299"
    },
    "code_folding": [],
    "collapsed": false
   },
   "outputs": [],
   "source": [
    "#General  libraries\n",
    "from __future__ import division\n",
    "import numpy as np\n",
    "import pandas as pd\n",
    "pd.options.display.max_columns = 30\n",
    "import scipy as sp\n",
    "import copy\n",
    "\n",
    "#Specific data science packages\n",
    "from sklearn.linear_model import LinearRegression as Lin_Reg\n",
    "from sklearn.linear_model import LogisticRegression as Log_Reg\n",
    "from sklearn.linear_model import Ridge as Ridge_Reg\n",
    "from sklearn.linear_model import Lasso as Lasso_Reg\n",
    "from sklearn.tree import DecisionTreeRegressor as Reg_Tree\n",
    "from sklearn.ensemble import RandomForestRegressor as Reg_Forest\n",
    "from sklearn.ensemble import RandomForestClassifier as Cls_Forest\n",
    "import statsmodels.api as sm\n",
    "from statsmodels.regression.linear_model import OLS as OLS\n",
    "\n",
    "from sklearn.preprocessing import PolynomialFeatures as PolyFeat\n",
    "from sklearn.preprocessing import StandardScaler as Standardize\n",
    "\n",
    "from sklearn.model_selection import KFold as KFold\n",
    "from sklearn.model_selection import cross_val_score as CV\n",
    "from sklearn.model_selection import train_test_split as Split\n",
    "from sklearn.feature_selection import f_regression as RegTest\n",
    "\n",
    "import statsmodels.api as sm\n",
    "import statsmodels.formula.api as smf\n",
    "\n",
    "#Visualization libraries\n",
    "import matplotlib\n",
    "import matplotlib.pyplot as plt\n",
    "import matplotlib.cm as cmx\n",
    "import matplotlib.colors as colors\n",
    "%matplotlib inline\n",
    "import seaborn as sns\n",
    "\n",
    "#System libraries\n",
    "from itertools import combinations\n",
    "import itertools as it\n"
   ]
  },
  {
   "cell_type": "markdown",
   "metadata": {},
   "source": [
    "## Functions"
   ]
  },
  {
   "cell_type": "markdown",
   "metadata": {},
   "source": [
    "### Data Preparation functions"
   ]
  },
  {
   "cell_type": "code",
   "execution_count": 2,
   "metadata": {
    "ExecuteTime": {
     "end_time": "2016-12-14T22:23:20.455767",
     "start_time": "2016-12-14T22:23:20.451099"
    },
    "code_folding": [
     0
    ],
    "collapsed": true
   },
   "outputs": [],
   "source": [
    "def load_data(filename):\n",
    "    '''\n",
    "    To read the dataframe\n",
    "    Input:\n",
    "    - filename: variable with the name of the file to be read\n",
    "    \n",
    "    Output:\n",
    "    - df: file converted to a pandas dataframe\n",
    "    \n",
    "    '''\n",
    "    \n",
    "    df = pd.read_csv(filename)\n",
    "    return df"
   ]
  },
  {
   "cell_type": "code",
   "execution_count": 3,
   "metadata": {
    "ExecuteTime": {
     "end_time": "2016-12-14T22:23:20.463560",
     "start_time": "2016-12-14T22:23:20.458124"
    },
    "code_folding": [
     0
    ],
    "collapsed": true
   },
   "outputs": [],
   "source": [
    "def split(df, m_test_set):\n",
    "    '''\n",
    "    Split a dataframe in training and testing sets. Parameter m sets the frraction of data\n",
    "    allocated to the test set (suggested = 1/3 or 1/2)\n",
    "    \n",
    "    Input:\n",
    "    - df (m x n): Dataframe of data including predictors and response variable\n",
    "    - m_test_set: Fraction of data to be allocated to the testing set. \n",
    "    \n",
    "    Output:\n",
    "    - df_train (m x n): Dataframe for training the model \n",
    "    - df_test (m x n): Dataframe for testing the model\n",
    "    '''\n",
    "\n",
    "    df_train, df_test = Split(df, test_size = m_test_set)\n",
    "\n",
    "    return df_train, df_test"
   ]
  },
  {
   "cell_type": "code",
   "execution_count": 4,
   "metadata": {
    "ExecuteTime": {
     "end_time": "2016-12-14T22:23:20.472172",
     "start_time": "2016-12-14T22:23:20.466387"
    },
    "code_folding": [
     0
    ],
    "collapsed": true
   },
   "outputs": [],
   "source": [
    "def create_x_y(dataframe):\n",
    "    \"\"\"\n",
    "    Split the dataframe into two numpy arrays with predictors and indpendent variable\n",
    "    \n",
    "    Input:\n",
    "    - dataframe: Dataframe (m x n) with any number of predictors and one independent variable in the last column [x|y]\n",
    "    \n",
    "    Output:\n",
    "    - x (m x (n-1)): Numpy array with predictors\n",
    "    - y (m x 1):     Numpy array with independent variable \n",
    "    \"\"\"\n",
    "    \n",
    "    x = dataframe.values[:, :-1]\n",
    "    y = dataframe.values[:, -1]\n",
    "    \n",
    "    return x, y"
   ]
  },
  {
   "cell_type": "code",
   "execution_count": 5,
   "metadata": {
    "ExecuteTime": {
     "end_time": "2016-12-14T22:23:20.479976",
     "start_time": "2016-12-14T22:23:20.474582"
    },
    "code_folding": [
     0
    ],
    "collapsed": true
   },
   "outputs": [],
   "source": [
    "def standardize_data(x):\n",
    "    \"\"\"\n",
    "    Scale/standardize a matrix of (mxn) predictors. Each predictor array will be scaled to \n",
    "    zero mean and unit variance.\n",
    "    \n",
    "    Input: \n",
    "    - x (m x n): Numpy array with predictors \n",
    "    \n",
    "    Output:\n",
    "    \n",
    "    - x_scaled: Standarized numpy array\n",
    "    - scaler: Standarization model that can be re-used to standarize other datasets\n",
    "    \n",
    "    \"\"\"\n",
    "    \n",
    "    scaler = Standardize().fit(x)\n",
    "    \n",
    "    x_scaled = scaler.transform(x)\n",
    "    \n",
    "    return x_scaled, scaler\n"
   ]
  },
  {
   "cell_type": "code",
   "execution_count": 6,
   "metadata": {
    "ExecuteTime": {
     "end_time": "2016-12-14T22:23:20.488691",
     "start_time": "2016-12-14T22:23:20.482568"
    },
    "code_folding": [
     0
    ],
    "collapsed": true
   },
   "outputs": [],
   "source": [
    "def polynomial_transf(x, deg):\n",
    "    \n",
    "    \"\"\"\n",
    "    Transform a matrix of (mxn) predictors to a given polynomial degree\n",
    "    \n",
    "    Input: \n",
    "    - x (m x n): Numpy array with predictors \n",
    "    - deg: Desired polynomial degree\n",
    "    \n",
    "    Output:\n",
    "    \n",
    "    - x_transf: Numpy array with predictors transformend to the given polynomial degree. Includes all polynomial combinations of the features \n",
    "    with degree less than or equal to the specified degree. For example, if an input sample is two dimensional and of the form [a, b], \n",
    "    the degree-2 polynomial features are [1, a, b, a^2, ab, b^2].\n",
    "    \"\"\"\n",
    "    \n",
    "    #defining the polynomial degree\n",
    "    poly = PolyFeat(deg)\n",
    "    \n",
    "    #trasnforming x to the desired polynomial degree\n",
    "    x_transf = poly.fit_transform(x) \n",
    "\n",
    "    return x_transf"
   ]
  },
  {
   "cell_type": "markdown",
   "metadata": {
    "collapsed": true
   },
   "source": [
    "### Linear regression"
   ]
  },
  {
   "cell_type": "code",
   "execution_count": 7,
   "metadata": {
    "ExecuteTime": {
     "end_time": "2016-12-14T22:23:20.498946",
     "start_time": "2016-12-14T22:23:20.491077"
    },
    "code_folding": [
     0
    ],
    "collapsed": true
   },
   "outputs": [],
   "source": [
    "def create_linear_regression_model(x, y, print_results = False):\n",
    "    \"\"\"\n",
    "    Create linear regression model that best fits the input dataframe\n",
    "    \n",
    "    Input:\n",
    "    - x: Dataframe (m x n) with m observations and n predictors\n",
    "    - y: Dataframe (m x 1) with m observations and 1 independent variable\n",
    "    \n",
    "    Output:\n",
    "    - lin_reg_model: Fitted linear regression model\n",
    "    \"\"\"\n",
    "    \n",
    "    # Split dataframe\n",
    "    #x, y = create_x_y(dataframe)\n",
    "    \n",
    "    # Create linear regression model\n",
    "    lin_reg_model = Lin_Reg()\n",
    "    lin_reg_model.fit(x, y)\n",
    "    \n",
    "    # Print some results\n",
    "    if print_results:\n",
    "        print '\\nLinear regression model created'\n",
    "        print 'Train R^2: ', format(lin_reg_model.score(x, y), '.2f')\n",
    "    \n",
    "    return lin_reg_model"
   ]
  },
  {
   "cell_type": "markdown",
   "metadata": {
    "collapsed": true
   },
   "source": [
    "#### Ridge and Lasso regression"
   ]
  },
  {
   "cell_type": "code",
   "execution_count": 8,
   "metadata": {
    "ExecuteTime": {
     "end_time": "2016-12-14T22:23:20.536451",
     "start_time": "2016-12-14T22:23:20.501644"
    },
    "code_folding": [
     0
    ],
    "collapsed": true
   },
   "outputs": [],
   "source": [
    "def create_regularized_regression_model(x,y, regularization_type = 'Ridge', print_results = False, visualize_results = False):\n",
    "    \"\"\"\n",
    "    Create ridge regression model that best fits the input dataframe\n",
    "    \n",
    "    Input:\n",
    "    - x: Dataframe (m x n) with m observations and n predictors\n",
    "    - y: Dataframe (m x 1) with m observations and 1 independent variable\n",
    "    - regularization_type: Either 'Ridge' or 'Lasso', default is 'Ridge'\n",
    "    - print results: Optional to show best regularization parameter and associated CV and Training set scores\n",
    "    - visualize_results: Optional to show best regularization parameter search\n",
    "    \n",
    "    Output:\n",
    "    - ridge_reg_model: Fitted ridge regression model optimized for the tuning parameter lambda\n",
    "    \"\"\"\n",
    "    \n",
    "    # Split dataframe\n",
    "    #x, y = create_x_y(dataframe)\n",
    "    \n",
    "    # Create evaluation parameter range\n",
    "    min_pow_10 = -7\n",
    "    max_pow_10 = 7\n",
    "    reg_param_range = [ 10**i for i in range(min_pow_10, max_pow_10)]\n",
    "    \n",
    "    # Create list to keep track of scores\n",
    "    score_train = []\n",
    "    score_CV = []\n",
    "    \n",
    "    # Iterate over values for regression parameter\n",
    "    for reg_param in reg_param_range:\n",
    "        \n",
    "        # Create model\n",
    "        if regularization_type == 'Ridge':\n",
    "            model = Ridge_Reg(alpha = reg_param)\n",
    "        elif regularization_type == 'Lasso':\n",
    "            model = Lasso_Reg(alpha = reg_param)\n",
    "        else:\n",
    "            print 'Provide either ridge or lasso'\n",
    "            \n",
    "        # Find cross validation score\n",
    "        score_CV.append(np.mean(CV(model, x, y, cv = 5)))\n",
    "        \n",
    "        # Find score on training set\n",
    "        model.fit(x,y)\n",
    "        score_train.append(model.score(x, y))\n",
    "    \n",
    "    # Find highest CV score\n",
    "    highest_CV_score = np.max(score_CV)\n",
    "    \n",
    "    # Find alpha related to highest score\n",
    "    best_reg_param = reg_param_range[np.argmax(score_CV)]\n",
    "    \n",
    "    # Create and fit model with best regularization parameter\n",
    "    if regularization_type == 'Ridge':\n",
    "        model = Ridge_Reg(alpha = best_reg_param)\n",
    "    elif regularization_type == 'Lasso':\n",
    "        model = Lasso_Reg(alpha = best_reg_param)\n",
    "    model.fit(x, y)\n",
    "    \n",
    "    # Print some results\n",
    "    if print_results:\n",
    "        print '\\n', regularization_type,  'regression model created'\n",
    "        print 'Best regularization parameter:', best_reg_param\n",
    "        print 'Train R^2: ', format(model.score(x, y), '.2f')\n",
    "        print 'CV R^2: ', format(np.max(score_CV), '.2f')\n",
    "    \n",
    "    # Visualize search\n",
    "    if visualize_results:\n",
    "        visualize_regularized_regression(score_train, score_CV, reg_param_range, regularization_type + ' regression')\n",
    "    \n",
    "    return model"
   ]
  },
  {
   "cell_type": "markdown",
   "metadata": {
    "ExecuteTime": {
     "end_time": "2016-12-04T14:54:38.633841",
     "start_time": "2016-12-04T14:54:38.630503"
    }
   },
   "source": [
    "##### Visualize regularized regression parameter search"
   ]
  },
  {
   "cell_type": "code",
   "execution_count": 9,
   "metadata": {
    "ExecuteTime": {
     "end_time": "2016-12-14T22:23:20.549874",
     "start_time": "2016-12-14T22:23:20.538899"
    },
    "code_folding": [
     0
    ],
    "collapsed": true
   },
   "outputs": [],
   "source": [
    "def visualize_regularized_regression(train_scores, cv_scores, reg_param_range, title):\n",
    "    \"\"\"\n",
    "    Visualize the search for the best regularization parameter\n",
    "    \n",
    "    Input:\n",
    "    - train_scores: List with values of the model scores on the training set\n",
    "    - cv_scores: List with values of the model scores for cross validation\n",
    "    - reg_param_range: List with values for regression parameter\n",
    "    - title: String with title above plot\n",
    "    \n",
    "    Output:\n",
    "    - Visualization of parameter search\n",
    "    \"\"\"\n",
    "    \n",
    "    # Plot train an test R-squared as a function parameter value\n",
    "    fig, ax = plt.subplots(1, 1, figsize=(6, 6))\n",
    "\n",
    "    ax.semilogx(reg_param_range, \n",
    "                train_scores, \n",
    "                c='b', \n",
    "                label='Train scores')\n",
    "    ax.semilogx(reg_param_range, \n",
    "                cv_scores, \n",
    "                c='r', \n",
    "                label='CV scores')\n",
    "\n",
    "    ax.set_xlabel('Regularization parameter')\n",
    "    ax.set_ylabel('R^2 score')\n",
    "    ax.set_ylim((min(cv_scores) - 0.2, 1.2))\n",
    "    ax.set_title(title)\n",
    "    ax.legend(loc='best')\n",
    "    \n",
    "    plt.show()"
   ]
  },
  {
   "cell_type": "markdown",
   "metadata": {},
   "source": [
    "#### Forward stepwise subset selection"
   ]
  },
  {
   "cell_type": "code",
   "execution_count": 10,
   "metadata": {
    "ExecuteTime": {
     "end_time": "2016-12-14T22:23:20.598104",
     "start_time": "2016-12-14T22:23:20.552228"
    },
    "code_folding": [
     0
    ],
    "collapsed": false
   },
   "outputs": [],
   "source": [
    "def forward_stepwise_subset_selection(x, y, predictor_list, print_results = False):\n",
    "    \"\"\"\n",
    "    Select best subset of predictors based on BIC score to find the subset of most relevant variables. \n",
    "    \n",
    "    Input:\n",
    "    - x: Dataframe (m x n) with m observations and n predictors\n",
    "    - y: Dataframe (m x 1) with m observations and 1 independent variable\n",
    "    predictor_names: List with names of predictors\n",
    "    \n",
    "    Output:\n",
    "    - best_predictors: List of best predictors\n",
    "    \"\"\"\n",
    "    \n",
    "    predictor_names = copy.deepcopy(predictor_list)\n",
    "    \n",
    "    x = sm.add_constant(x, prepend=False)\n",
    "    predictor_names.append('Constant')\n",
    "\n",
    "    ### Step-wise Forward Selection\n",
    "    d = x.shape[1] # total no. of predictors\n",
    "    N = x.shape[0]\n",
    "    \n",
    "    # Keep track of current set of chosen predictors, and the remaining set of predictors\n",
    "    current_predictors = [] \n",
    "    remaining_predictors = range(d)\n",
    "\n",
    "    # Set some initial large value for min BIC score for all possible subsets\n",
    "    best_r_squared = 0\n",
    "    best_adjusted_r_squared = 0\n",
    "        \n",
    "    # Keep track of the best subset of predictors\n",
    "    best_subset = [] \n",
    "\n",
    "    # Iterate over all possible subset sizes, 0 predictors to d predictors\n",
    "    for size in range(d):    \n",
    "        max_r_squared = -1e10 # set some initial small value for max R^2\n",
    "        best_predictor = -1 # set some throwaway initial number for the best predictor to add\n",
    "        adjusted_r_squared_with_best_predictor = 0 # set some initial large value for BIC score   \n",
    "\n",
    "        # Iterate over all remaining predictors to find best predictor to add\n",
    "        for i in remaining_predictors:\n",
    "            # Make copy of current set of predictors\n",
    "            temp = current_predictors[:]\n",
    "            # Add predictor 'i'\n",
    "            temp.append(i)\n",
    "\n",
    "            # Use only a subset of predictors in the training data\n",
    "            x_subset = x[:, temp]\n",
    "            p = x_subset.shape[1]\n",
    "            # Fit and evaluate R^2\n",
    "            lin_reg_model = Lin_Reg()\n",
    "            lin_reg_model.fit(x_subset, y)\n",
    "            r_squared = lin_reg_model.score(x_subset, y)\n",
    "            adjusted_r_squared = (1 - (1 - r_squared)*(N - 1)/\n",
    "                                  (N - p - 1))\n",
    "            \n",
    "            # Check if we get a higher R^2 value than than current max R^2, if so, update\n",
    "            if(r_squared > max_r_squared):\n",
    "                max_r_squared = r_squared\n",
    "                best_predictor = i\n",
    "                adjusted_r_squared_with_best_predictor = adjusted_r_squared\n",
    "                \n",
    "        # Remove best predictor from remaining list, and add best predictor to current list\n",
    "        remaining_predictors.remove(best_predictor)\n",
    "        current_predictors.append(best_predictor)\n",
    "\n",
    "        # Check if BIC for with the predictor we just added is lower than \n",
    "        # the global minimum across all subset of predictors\n",
    "        if(adjusted_r_squared_with_best_predictor > best_adjusted_r_squared):\n",
    "            best_subset = current_predictors[:]\n",
    "            best_r_squared = max_r_squared\n",
    "            best_adjusted_r_squared = adjusted_r_squared_with_best_predictor\n",
    "    \n",
    "    if print_results:\n",
    "        best_predictors = [predictor_names[i] for i in best_subset]\n",
    "        print 'Step-wise forward subset selection:'\n",
    "        print 'Train R^2: ', format(best_r_squared, '.2f')\n",
    "        print 'Predictors: ', best_predictors\n",
    "    \n",
    "    return best_subset # add 1 as indices start from 0"
   ]
  },
  {
   "cell_type": "markdown",
   "metadata": {
    "ExecuteTime": {
     "end_time": "2016-12-06T19:49:46.523453",
     "start_time": "2016-12-06T19:49:46.520347"
    }
   },
   "source": [
    "#### Backward stepwise subset selection"
   ]
  },
  {
   "cell_type": "code",
   "execution_count": 11,
   "metadata": {
    "ExecuteTime": {
     "end_time": "2016-12-14T22:23:20.653346",
     "start_time": "2016-12-14T22:23:20.600361"
    },
    "code_folding": [
     0
    ],
    "collapsed": true
   },
   "outputs": [],
   "source": [
    "def backward_stepwise_subset_selection(x, y, predictor_list, print_results = False):\n",
    "    \"\"\"\n",
    "    Select best subset of predictors based on BIC score to find the subset of most relevant variables. \n",
    "    \n",
    "    Input:\n",
    "    - x: Dataframe (m x n) with m observations and n predictors\n",
    "    - y: Dataframe (m x 1) with m observations and 1 independent variable\n",
    "    predictor_names: List with names of predictors\n",
    "    \n",
    "    Output:\n",
    "    - best_predictors: List of best predictors\n",
    "    \"\"\"\n",
    "    \n",
    "    predictor_names = copy.deepcopy(predictor_list)\n",
    "    \n",
    "    x = sm.add_constant(x, prepend=False)\n",
    "    predictor_names.append('Constant')\n",
    "\n",
    "    ###  Step-wise Backward Selection\n",
    "    d = x.shape[1] # total no. of predictors\n",
    "    N = x.shape[0]\n",
    "    \n",
    "    # Keep track of current set of chosen predictors\n",
    "    current_predictors = range(d)\n",
    "\n",
    "    # First, fit and evaluate BIC using all 'd' number of predictors\n",
    "    p = x.shape[1]\n",
    "\n",
    "    # Fit and evaluate R^2\n",
    "    lin_reg_model = Lin_Reg()\n",
    "    lin_reg_model.fit(x, y)\n",
    "    r_squared = lin_reg_model.score(x, y)\n",
    "    adjusted_r_squared = (1 - (1 - r_squared)*(N - 1)/\n",
    "                          (N - p - 1))\n",
    "\n",
    "    # Set the minimum BIC score, initially, to the BIC score using all 'd' predictors\n",
    "    # Keep track of the best subset of predictors\n",
    "    best_subset = current_predictors[:] \n",
    "    best_adjusted_r_squared = adjusted_r_squared\n",
    "    \n",
    "    # Iterate over all possible subset sizes, d predictors to 1 predictor\n",
    "    for size in range(d - 1, 1, -1): # stop before 0 to avoid choosing an empty set of predictors\n",
    "        max_r_squared = -1e10 # set some initial small value for max R^2\n",
    "        worst_predictor = -1 # set some throwaway initial number for the worst predictor to remove\n",
    "        adjusted_r_squared_with_best_predictor = 0  # set some initial large value for min BIC score  \n",
    "\n",
    "        # Iterate over current set of predictors (for potential elimination)\n",
    "        for i in current_predictors:\n",
    "            # Create copy of current predictors, and remove predictor 'i'\n",
    "            temp = current_predictors[:]\n",
    "            temp.remove(i)\n",
    "\n",
    "            # Use only a subset of predictors in the training data\n",
    "            x_subset = x[:, temp]\n",
    "            p = x_subset.shape[1]\n",
    "            \n",
    "            # Fit and evaluate R^2\n",
    "            lin_reg_model = Lin_Reg()\n",
    "            lin_reg_model.fit(x_subset, y)\n",
    "            r_squared = lin_reg_model.score(x_subset, y)\n",
    "            adjusted_r_squared = (1 - (1 - r_squared)*(N - 1)/\n",
    "                                  (N - p - 1))\n",
    "\n",
    "            # Check if we get a higher R^2 value than than current max R^2, if so, update\n",
    "            if(r_squared > max_r_squared):\n",
    "                max_r_squared = r_squared\n",
    "                worst_predictor = i\n",
    "                adjusted_r_squared_with_best_predictor = adjusted_r_squared\n",
    "\n",
    "        # Remove worst predictor from current set of predictors\n",
    "        current_predictors.remove(worst_predictor)\n",
    "\n",
    "        # Check if BIC for with the predictor we just added is lower than \n",
    "        # the global minimum across all subset of predictors\n",
    "        if(adjusted_r_squared_with_best_predictor > best_adjusted_r_squared):\n",
    "            best_subset = current_predictors[:]\n",
    "            best_r_squared = max_r_squared\n",
    "            best_adjusted_r_squared = adjusted_r_squared_with_best_predictor\n",
    "\n",
    "    if print_results:\n",
    "        best_predictors = [predictor_names[i] for i in best_subset]\n",
    "        print 'Step-wise backward subset selection:'\n",
    "        print 'Train R^2: ', format(best_r_squared, '.2f')\n",
    "        print 'Subset of best predictors: ', best_predictors\n",
    "    \n",
    "    return best_subset # add 1 as indices start from 0"
   ]
  },
  {
   "cell_type": "markdown",
   "metadata": {},
   "source": [
    "### Logistic regression"
   ]
  },
  {
   "cell_type": "code",
   "execution_count": 12,
   "metadata": {
    "ExecuteTime": {
     "end_time": "2016-12-14T22:23:20.697499",
     "start_time": "2016-12-14T22:23:20.655969"
    },
    "code_folding": [
     0
    ],
    "collapsed": false
   },
   "outputs": [],
   "source": [
    "def create_logistic_regression_model(x,y, regularization_type = 'l2', print_results = False, visualize_results = False):\n",
    "    \"\"\"\n",
    "    Create logistic regression model that best fits the input dataframe\n",
    "    \n",
    "    Input:\n",
    "    - x: Dataframe (m x n) with m observations and n predictors\n",
    "    - y: Dataframe (m x 1) with m observations and 1 independent variable\n",
    "    - regularization_type: Either 'l2' or 'l1', default is 'l1'\n",
    "    - print results: Optional to show best regularization parameter and associated CV and Training set scores\n",
    "    - visualize_results: Optional to show best regularization parameter search\n",
    "    \n",
    "    Output:\n",
    "    - model: Fitted logistic regression model optimized for the tuning parameter lambda\n",
    "    \"\"\"\n",
    "    \n",
    "    # Create evaluation parameter range\n",
    "    min_pow_10 = -7\n",
    "    max_pow_10 = 7\n",
    "    reg_param_range = [ 10**i for i in range(min_pow_10, max_pow_10)]\n",
    "    \n",
    "    # Create list to keep track of scores\n",
    "    score_train = []\n",
    "    score_CV = []\n",
    "    \n",
    "    # Try to beat best score\n",
    "    best_score = 0\n",
    "    \n",
    "    # Iterate over values for regression parameter\n",
    "    for reg_param in reg_param_range:\n",
    "        \n",
    "        # Create model\n",
    "        if regularization_type == 'l2':\n",
    "            model = Log_Reg(penalty = regularization_type, C = reg_param)\n",
    "        elif regularization_type == 'l1':\n",
    "            model = Log_Reg(penalty = regularization_type, C = reg_param)\n",
    "        else:\n",
    "            print 'Provide either ridge or lasso'\n",
    "            \n",
    "        # Find cross validation score\n",
    "        average_score = np.mean(CV(model, x, y, cv = 5))\n",
    "        score_CV.append(np.mean(CV(model, x, y, cv = 5)))\n",
    "        \n",
    "        # Find score on training set\n",
    "        model.fit(x,y)\n",
    "        score_train.append(model.score(x, y))\n",
    "        \n",
    "        if average_score > best_score:\n",
    "            best_score = average_score\n",
    "            best_reg_param = reg_param\n",
    "            \n",
    "    #     # Find highest CV score\n",
    "    #     highest_CV_score = np.max(score_CV)\n",
    "\n",
    "    #     # Find alpha related to highest score\n",
    "    #     best_reg_param = reg_param_range[np.argmax(score_CV)]\n",
    "\n",
    "    # Create and fit model with best regularization parameter\n",
    "        if regularization_type == 'l2':\n",
    "            model = Log_Reg(penalty = regularization_type, C = best_reg_param)\n",
    "        elif regularization_type == 'l1':\n",
    "            model = Log_Reg(penalty = regularization_type, C = best_reg_param)\n",
    "    model.fit(x, y)\n",
    "    \n",
    "    # Print some results\n",
    "    if print_results:\n",
    "        print '\\n', regularization_type,  'regression model created'\n",
    "        print 'Best regularization parameter:', best_reg_param\n",
    "        print 'Train R^2: ', format(model.score(x, y), '.2f')\n",
    "        print 'CV R^2: ', format(best_score, '.2f')\n",
    "    \n",
    "    # Visualize search\n",
    "    if visualize_results:\n",
    "        visualize_regularized_regression(score_train, score_CV, reg_param_range, regularization_type + ' regression')\n",
    "    \n",
    "    return model"
   ]
  },
  {
   "cell_type": "markdown",
   "metadata": {
    "ExecuteTime": {
     "end_time": "2016-12-04T14:54:38.633841",
     "start_time": "2016-12-04T14:54:38.630503"
    }
   },
   "source": [
    "### Random Forest - Regression"
   ]
  },
  {
   "cell_type": "code",
   "execution_count": 13,
   "metadata": {
    "ExecuteTime": {
     "end_time": "2016-12-14T22:23:20.723498",
     "start_time": "2016-12-14T22:23:20.700218"
    },
    "code_folding": [
     0
    ],
    "collapsed": false
   },
   "outputs": [],
   "source": [
    "def create_random_forest_regression_model(x, y, print_results = False):\n",
    "    \"\"\"\n",
    "    Create random forest model that best fits the x and y dataframe\n",
    "    \n",
    "    Input:\n",
    "    - x: Dataframe (m x n) with m observations and n predictors\n",
    "    - y: Dataframe (m x 1) with m observations and 1 independent variable\n",
    "    - print results: Optional to show best regularization parameter and associated CV and Training set scores\n",
    "    \n",
    "    Output:\n",
    "    - model: Fitted random forest model optimized for the tuning parameters number of trees and tree depth\n",
    "    \"\"\"\n",
    "    \n",
    "    # Create evaluation parameter range    \n",
    "    n_trees = np.arange(10, 150, 20)  # Trees and depth are explored on an exponentially growing space,\n",
    "    depths = np.arange(2, 10)   # since it is assumed that trees and depth will add accuracy in a decaying fashion.\n",
    "\n",
    "    # Create list to keep track of scores\n",
    "    score_train = []\n",
    "    score_CV = []\n",
    "    \n",
    "    # Keep track of current best score\n",
    "    best_score = 0\n",
    "    \n",
    "    # Iterate over number of trees\n",
    "    for trees in n_trees:\n",
    "        \n",
    "        # Iterete over different depths\n",
    "        for depth in depths:\n",
    "            \n",
    "            # Create random forest model\n",
    "            model = Reg_Forest(n_estimators = trees, max_depth = depth)\n",
    "\n",
    "            # Get cross validation score \n",
    "            average_score = np.mean(CV(model, x, y, cv = 5))\n",
    "            \n",
    "            if average_score > best_score:\n",
    "                best_score = average_score\n",
    "                best_depth = depth\n",
    "                best_trees = trees\n",
    "           \n",
    "    # Recreate best model and fit it using the whole training data\n",
    "    model = Reg_Forest(n_estimators = best_trees, max_depth = best_depth)\n",
    "    \n",
    "    # Fit model using entire training set\n",
    "    model.fit(x,y)\n",
    "    \n",
    "    # Print some results\n",
    "    if print_results:\n",
    "        print '\\n Random Forest Model created'\n",
    "        print 'Best number of trees: ', best_trees\n",
    "        print 'Best depth: ', best_depth\n",
    "        print 'Train R^2: ', format(model.score(x, y), '.2f')\n",
    "        print 'CV R^2: ', format(best_score, '.2f')\n",
    "    \n",
    "    return model"
   ]
  },
  {
   "cell_type": "markdown",
   "metadata": {
    "ExecuteTime": {
     "end_time": "2016-12-04T14:54:38.633841",
     "start_time": "2016-12-04T14:54:38.630503"
    }
   },
   "source": [
    "### Random Forest -  Classification"
   ]
  },
  {
   "cell_type": "code",
   "execution_count": 14,
   "metadata": {
    "ExecuteTime": {
     "end_time": "2016-12-14T22:23:20.750452",
     "start_time": "2016-12-14T22:23:20.725712"
    },
    "code_folding": [
     0
    ],
    "collapsed": false
   },
   "outputs": [],
   "source": [
    "def create_random_forest_classification_model(x, y, print_results = False):\n",
    "    \"\"\"\n",
    "    Create random forest model that best fits the x and y dataframe\n",
    "    \n",
    "    Input:\n",
    "    - x: Dataframe (m x n) with m observations and n predictors\n",
    "    - y: Dataframe (m x 1) with m observations and 1 independent variable\n",
    "    - print results: Optional to show best regularization parameter and associated CV and Training set scores\n",
    "    \n",
    "    Output:\n",
    "    - model: Fitted random forest model optimized for the tuning parameters number of trees and tree depth\n",
    "    \"\"\"\n",
    "    \n",
    "    # Create evaluation parameter range    \n",
    "    n_trees = np.arange(10, 150, 20)  # Trees and depth are explored on an exponentially growing space,\n",
    "    depths = np.arange(2, 10)   # since it is assumed that trees and depth will add accuracy in a decaying fashion.\n",
    "\n",
    "    # Create list to keep track of scores\n",
    "    score_train = []\n",
    "    score_CV = []\n",
    "    \n",
    "    # Keep track of current best score\n",
    "    best_score = 0\n",
    "    \n",
    "    # Iterate over number of trees\n",
    "    for trees in n_trees:\n",
    "        \n",
    "        # Iterete over different depths\n",
    "        for depth in depths:\n",
    "            \n",
    "            # Create random forest model\n",
    "            model = Cls_Forest(n_estimators = trees, max_depth = depth)\n",
    "\n",
    "            # Get cross validation score \n",
    "            average_score = np.mean(CV(model, x, y, cv = 5))\n",
    "            \n",
    "            if average_score > best_score:\n",
    "                best_score = average_score\n",
    "                best_depth = depth\n",
    "                best_trees = trees\n",
    "           \n",
    "    # Recreate best model and fit it using the whole training data\n",
    "    model = Cls_Forest(n_estimators = best_trees, max_depth = best_depth)\n",
    "    \n",
    "    # Fit model using entire training set\n",
    "    model.fit(x,y)\n",
    "    \n",
    "    # Print some results\n",
    "    if print_results:\n",
    "        print '\\n Random Forest Model created'\n",
    "        print 'Best number of trees: ', best_trees\n",
    "        print 'Best depth: ', best_depth\n",
    "        print 'Train R^2: ', format(model.score(x, y), '.2f')\n",
    "        print 'CV R^2: ', format(best_score, '.2f')\n",
    "    \n",
    "    return model"
   ]
  },
  {
   "cell_type": "markdown",
   "metadata": {
    "ExecuteTime": {
     "end_time": "2016-12-04T14:54:38.633841",
     "start_time": "2016-12-04T14:54:38.630503"
    }
   },
   "source": [
    "#### Visualize features"
   ]
  },
  {
   "cell_type": "code",
   "execution_count": 15,
   "metadata": {
    "ExecuteTime": {
     "end_time": "2016-12-14T22:23:20.765152",
     "start_time": "2016-12-14T22:23:20.752878"
    },
    "code_folding": [
     0
    ],
    "collapsed": false
   },
   "outputs": [],
   "source": [
    "def create_importance_features_list(random_forest_model, x_columns, visualize_results = False, title = 'Relative importance of Each Feature'):\n",
    "    \"\"\"\n",
    "    Create a list of most important features for the random forest\n",
    "    \n",
    "    Input:\n",
    "    - random_forest_model: a fitted random forest model\n",
    "    - x_columns: names of the columns of the fitted dataframe\n",
    "    - visualize_results: Optional to show graph of most imortant features\n",
    "    - title: String with title above plot\n",
    "    \n",
    "    Output:\n",
    "    - features_list: Dataframe of features and relative importance\n",
    "    - Optional: Visualization of features\n",
    "    \"\"\" \n",
    "    \n",
    "    # Create importance list\n",
    "    features_list = random_forest_model.feature_importances_\n",
    "    \n",
    "    # Get matching column names\n",
    "    name_list = x_columns\n",
    "    \n",
    "    features_list, name_list = zip(*sorted(zip(features_list, name_list)))\n",
    "    plt.figure(figsize = (8,8))\n",
    "    plt.barh(range(len(name_list)), features_list, align='center')\n",
    "    plt.yticks(range(len(name_list)), name_list)\n",
    "    plt.xlabel('Relative Importance in the Random Forest')\n",
    "    plt.ylabel('Predictor')\n",
    "    plt.title(title)\n",
    "    plt.show()\n",
    "    \n",
    "#     importance_list_df = pd.DataFrame(data = features_list, columns = ['Importance'], index = name_list)\n",
    "    \n",
    "#     return importance_list_df.sort_values('Importance')"
   ]
  },
  {
   "cell_type": "markdown",
   "metadata": {},
   "source": [
    "## Model Execution\n",
    "\n",
    "### Data preparation\n",
    "\n",
    "#### Load data"
   ]
  },
  {
   "cell_type": "code",
   "execution_count": 16,
   "metadata": {
    "ExecuteTime": {
     "end_time": "2016-12-14T22:23:20.786194",
     "start_time": "2016-12-14T22:23:20.766933"
    },
    "collapsed": false
   },
   "outputs": [
    {
     "data": {
      "text/plain": [
       "array(['pixel_ID', 'lat', 'lon', 'cf', 'directionality', 'population',\n",
       "       'road_connectivity', 'road_capacity', 'road_capacity_incl_highway',\n",
       "       'road_capacity_highway', 'road_distance',\n",
       "       'road_distance_incl_highway', 'road_distance_highway',\n",
       "       'oneway_distance', 'oneway_dist_percentage', 'oneway_capacity',\n",
       "       'oneway_percentage', 'highway_bin', 'bridge_bin', 'tunnel_bin',\n",
       "       'rail_bin', 'waterway_bin', 'waterway_distance', 'cf_category'], dtype=object)"
      ]
     },
     "execution_count": 16,
     "metadata": {},
     "output_type": "execute_result"
    }
   ],
   "source": [
    "pixels_file = 'SP_pixel_list_cf_predictors_v2_categories.csv'\n",
    "# pixels_file = 'SFO_BayArea_pixel_list_cf_predictors.csv'\n",
    "pixels_data_df = load_data(pixels_file)\n",
    "pixels_data_df.head()\n",
    "pixels_data_df.columns.values"
   ]
  },
  {
   "cell_type": "markdown",
   "metadata": {},
   "source": [
    "#### Regression indicator\n",
    "\n",
    "Since we have implemented both regression as well classification functions, we have specified a parameter that serves as indicator if the regression or the classification models should be run. This depends on the input dataset used. "
   ]
  },
  {
   "cell_type": "code",
   "execution_count": 17,
   "metadata": {
    "ExecuteTime": {
     "end_time": "2016-12-14T22:23:20.791622",
     "start_time": "2016-12-14T22:23:20.788100"
    },
    "collapsed": false,
    "scrolled": true
   },
   "outputs": [],
   "source": [
    "#Extract relevant columns (predictors and response variable only)\n",
    "regression = True"
   ]
  },
  {
   "cell_type": "markdown",
   "metadata": {},
   "source": [
    "#### Predictor selection\n",
    "\n",
    "Based on this regression flag, we determine what predictors we include in our analysis. This subset of predictors is chosen to account for multicollinearity issues. Obviously, the independent variable is different in the cases of regression and classification. "
   ]
  },
  {
   "cell_type": "code",
   "execution_count": 18,
   "metadata": {
    "ExecuteTime": {
     "end_time": "2016-12-14T22:23:20.826282",
     "start_time": "2016-12-14T22:23:20.793307"
    },
    "code_folding": [],
    "collapsed": false
   },
   "outputs": [
    {
     "data": {
      "text/html": [
       "<div>\n",
       "<table border=\"1\" class=\"dataframe\">\n",
       "  <thead>\n",
       "    <tr style=\"text-align: right;\">\n",
       "      <th></th>\n",
       "      <th>Population</th>\n",
       "      <th>Road Connectivity</th>\n",
       "      <th>Road Capacity</th>\n",
       "      <th>Highway Capacity</th>\n",
       "      <th>Road Distance</th>\n",
       "      <th>Highway Distance</th>\n",
       "      <th>One-Way Distance</th>\n",
       "      <th>Bridge</th>\n",
       "      <th>Tunnel</th>\n",
       "      <th>Rail</th>\n",
       "      <th>Waterway Distance</th>\n",
       "      <th>Circuity Factor</th>\n",
       "    </tr>\n",
       "  </thead>\n",
       "  <tbody>\n",
       "    <tr>\n",
       "      <th>0</th>\n",
       "      <td>0</td>\n",
       "      <td>12</td>\n",
       "      <td>19.721551</td>\n",
       "      <td>0.000000</td>\n",
       "      <td>10.780871</td>\n",
       "      <td>0.000000</td>\n",
       "      <td>0.559462</td>\n",
       "      <td>0</td>\n",
       "      <td>0</td>\n",
       "      <td>0</td>\n",
       "      <td>0.0</td>\n",
       "      <td>2.640166</td>\n",
       "    </tr>\n",
       "    <tr>\n",
       "      <th>1</th>\n",
       "      <td>0</td>\n",
       "      <td>8</td>\n",
       "      <td>67.709612</td>\n",
       "      <td>0.648042</td>\n",
       "      <td>18.681803</td>\n",
       "      <td>0.648042</td>\n",
       "      <td>0.000000</td>\n",
       "      <td>0</td>\n",
       "      <td>0</td>\n",
       "      <td>0</td>\n",
       "      <td>0.0</td>\n",
       "      <td>1.371079</td>\n",
       "    </tr>\n",
       "    <tr>\n",
       "      <th>2</th>\n",
       "      <td>0</td>\n",
       "      <td>0</td>\n",
       "      <td>0.000000</td>\n",
       "      <td>65.370412</td>\n",
       "      <td>0.000000</td>\n",
       "      <td>16.342603</td>\n",
       "      <td>0.000000</td>\n",
       "      <td>0</td>\n",
       "      <td>0</td>\n",
       "      <td>0</td>\n",
       "      <td>0.0</td>\n",
       "      <td>1.532384</td>\n",
       "    </tr>\n",
       "    <tr>\n",
       "      <th>3</th>\n",
       "      <td>0</td>\n",
       "      <td>0</td>\n",
       "      <td>0.000000</td>\n",
       "      <td>0.000000</td>\n",
       "      <td>0.000000</td>\n",
       "      <td>0.000000</td>\n",
       "      <td>0.000000</td>\n",
       "      <td>0</td>\n",
       "      <td>0</td>\n",
       "      <td>0</td>\n",
       "      <td>0.0</td>\n",
       "      <td>3.292541</td>\n",
       "    </tr>\n",
       "    <tr>\n",
       "      <th>4</th>\n",
       "      <td>0</td>\n",
       "      <td>0</td>\n",
       "      <td>0.000000</td>\n",
       "      <td>65.370412</td>\n",
       "      <td>0.000000</td>\n",
       "      <td>16.342603</td>\n",
       "      <td>0.000000</td>\n",
       "      <td>0</td>\n",
       "      <td>0</td>\n",
       "      <td>0</td>\n",
       "      <td>0.0</td>\n",
       "      <td>2.677605</td>\n",
       "    </tr>\n",
       "  </tbody>\n",
       "</table>\n",
       "</div>"
      ],
      "text/plain": [
       "   Population  Road Connectivity  Road Capacity  Highway Capacity  \\\n",
       "0           0                 12      19.721551          0.000000   \n",
       "1           0                  8      67.709612          0.648042   \n",
       "2           0                  0       0.000000         65.370412   \n",
       "3           0                  0       0.000000          0.000000   \n",
       "4           0                  0       0.000000         65.370412   \n",
       "\n",
       "   Road Distance  Highway Distance  One-Way Distance  Bridge  Tunnel  Rail  \\\n",
       "0      10.780871          0.000000          0.559462       0       0     0   \n",
       "1      18.681803          0.648042          0.000000       0       0     0   \n",
       "2       0.000000         16.342603          0.000000       0       0     0   \n",
       "3       0.000000          0.000000          0.000000       0       0     0   \n",
       "4       0.000000         16.342603          0.000000       0       0     0   \n",
       "\n",
       "   Waterway Distance  Circuity Factor  \n",
       "0                0.0         2.640166  \n",
       "1                0.0         1.371079  \n",
       "2                0.0         1.532384  \n",
       "3                0.0         3.292541  \n",
       "4                0.0         2.677605  "
      ]
     },
     "execution_count": 18,
     "metadata": {},
     "output_type": "execute_result"
    }
   ],
   "source": [
    "if regression:\n",
    "\n",
    "    xy_df = pixels_data_df[['population',\n",
    "                            'road_connectivity', \n",
    "                            'road_capacity','road_capacity_highway', \n",
    "                            'road_distance','road_distance_highway',\n",
    "                            'oneway_distance',\n",
    "                            'bridge_bin', 'tunnel_bin',\n",
    "                            'rail_bin', 'waterway_distance', 'cf']]\n",
    "else:\n",
    "\n",
    "    xy_df = pixels_data_df[['population',\n",
    "                            'road_connectivity', \n",
    "                            'road_capacity','road_capacity_highway', \n",
    "                            'road_distance','road_distance_highway',\n",
    "                            'oneway_distance',\n",
    "                            'bridge_bin', 'tunnel_bin',\n",
    "                            'rail_bin', 'waterway_distance', 'cf_category']]\n",
    "\n",
    "# Rename columns\n",
    "xy_df.columns = ['Population',\n",
    "                     'Road Connectivity', \n",
    "                     'Road Capacity','Highway Capacity', \n",
    "                     'Road Distance','Highway Distance',\n",
    "                     'One-Way Distance',\n",
    "                     'Bridge', \n",
    "                     'Tunnel',\n",
    "                     'Rail', \n",
    "                     'Waterway Distance', 'Circuity Factor']\n",
    "\n",
    "xy_df.head()"
   ]
  },
  {
   "cell_type": "code",
   "execution_count": 19,
   "metadata": {
    "ExecuteTime": {
     "end_time": "2016-12-14T22:23:20.834756",
     "start_time": "2016-12-14T22:23:20.828619"
    },
    "collapsed": false
   },
   "outputs": [
    {
     "name": "stdout",
     "output_type": "stream",
     "text": [
      "Predictors List\n",
      "['Population', 'Road Connectivity', 'Road Capacity', 'Highway Capacity', 'Road Distance', 'Highway Distance', 'One-Way Distance', 'Bridge', 'Tunnel', 'Rail', 'Waterway Distance']\n"
     ]
    }
   ],
   "source": [
    "# Create list of predictor names\n",
    "predictors = list(xy_df.columns.values)\n",
    "predictors = predictors[:-1]\n",
    "print 'Predictors List'\n",
    "print predictors"
   ]
  },
  {
   "cell_type": "markdown",
   "metadata": {},
   "source": [
    "#### Filter pixels\n",
    "\n",
    "Since we are analyzing the circuity factor in urban areas, we only want to include urban areas in our analysis. Therefore, we filter pixels that don't exceed a certain population bound. We also exclude pixels that do not have any roads or intersections for obvious reasons. "
   ]
  },
  {
   "cell_type": "code",
   "execution_count": 20,
   "metadata": {
    "ExecuteTime": {
     "end_time": "2016-12-14T22:23:20.849781",
     "start_time": "2016-12-14T22:23:20.837140"
    },
    "collapsed": false
   },
   "outputs": [
    {
     "name": "stdout",
     "output_type": "stream",
     "text": [
      "Filter data based on:  Population  - threshold value:  5000\n",
      "Filter data based on:  Road Distance  - threshold value:  0\n",
      "Filter data based on:  Road Connectivity  - threshold value:  0\n",
      "Observations after filtering:  1365\n"
     ]
    }
   ],
   "source": [
    "# Set filters\n",
    "# Set filter columns and respective values\n",
    "filter_columns = ['Population', 'Road Distance', 'Road Connectivity']\n",
    "filter_values = [ 5000, 0, 0]\n",
    "\n",
    "# Iterate over all columns with a minimum filter\n",
    "for i in range(len(filter_values)):\n",
    "    print 'Filter data based on: ', filter_columns[i], ' - threshold value: ', filter_values[i]\n",
    "    xy_df = xy_df[xy_df[filter_columns[i]] > filter_values[i]]\n",
    "\n",
    "print 'Observations after filtering: ', len(xy_df)\n"
   ]
  },
  {
   "cell_type": "markdown",
   "metadata": {},
   "source": [
    "#### Split data\n",
    "\n",
    "Split the data set in train and test sets"
   ]
  },
  {
   "cell_type": "code",
   "execution_count": 21,
   "metadata": {
    "ExecuteTime": {
     "end_time": "2016-12-14T22:23:20.859779",
     "start_time": "2016-12-14T22:23:20.851745"
    },
    "collapsed": false
   },
   "outputs": [
    {
     "name": "stdout",
     "output_type": "stream",
     "text": [
      "Observations in (training, testing) set:  910 , 455\n"
     ]
    }
   ],
   "source": [
    "xy_train, xy_test = split(xy_df, 1/3)\n",
    "print 'Observations in (training, testing) set: ', len(xy_train), ',', len(xy_test)\n",
    "# xy_train.head()\n",
    "\n"
   ]
  },
  {
   "cell_type": "code",
   "execution_count": 22,
   "metadata": {
    "ExecuteTime": {
     "end_time": "2016-12-14T22:23:20.868012",
     "start_time": "2016-12-14T22:23:20.861570"
    },
    "collapsed": false
   },
   "outputs": [],
   "source": [
    "#Extract x and y\n",
    "x_train, y_train = create_x_y(xy_train)\n",
    "x_test, y_test = create_x_y(xy_test)\n",
    "\n",
    "#Standarize the data\n",
    "x_train_std, scaler = standardize_data(x_train)\n",
    "x_test_std = scaler.transform(x_test)"
   ]
  },
  {
   "cell_type": "markdown",
   "metadata": {},
   "source": [
    "#### Initialize a matrix to keep track of model results"
   ]
  },
  {
   "cell_type": "code",
   "execution_count": 23,
   "metadata": {
    "ExecuteTime": {
     "end_time": "2016-12-14T22:23:20.873799",
     "start_time": "2016-12-14T22:23:20.870149"
    },
    "collapsed": true
   },
   "outputs": [],
   "source": [
    "# Create matrix to keep track of model scores\n",
    "# For each regression model, track: Model_type, R^2 train, R^2 test, key_paramters\n",
    "# For each regression model, track: Model_type, accuracy train, accuracy test, key_paramters\n",
    "\n",
    "model_results_matrix = []"
   ]
  },
  {
   "cell_type": "markdown",
   "metadata": {
    "collapsed": true
   },
   "source": [
    "## Run Models"
   ]
  },
  {
   "cell_type": "markdown",
   "metadata": {
    "collapsed": true
   },
   "source": [
    "### Linear Regression Model"
   ]
  },
  {
   "cell_type": "code",
   "execution_count": 24,
   "metadata": {
    "ExecuteTime": {
     "end_time": "2016-12-14T22:23:20.925866",
     "start_time": "2016-12-14T22:23:20.875669"
    },
    "collapsed": false
   },
   "outputs": [
    {
     "name": "stdout",
     "output_type": "stream",
     "text": [
      "\n",
      "Linear regression model created\n",
      "Train R^2:  0.43\n",
      "Test R^2:   0.43\n",
      "\n",
      "Linear regression model created\n",
      "Train R^2:  0.43\n",
      "Test R^2:   0.43\n"
     ]
    }
   ],
   "source": [
    "# Only run model in case of regression\n",
    "if regression:\n",
    "    lin_reg_model = create_linear_regression_model(x_train, y_train, print_results = True)\n",
    "    print 'Test R^2:  ', format(lin_reg_model.score(x_test, y_test), '0.2f')\n",
    "    # Append model results to model results matrix\n",
    "    model_results_matrix.append([\n",
    "            'Linear Regression (No Standardization)', \n",
    "            lin_reg_model.score(x_train, y_train),\n",
    "            lin_reg_model.score(x_test, y_test),\n",
    "            ''\n",
    "        ])\n",
    "\n",
    "# Only run model in case of regression\n",
    "if regression:\n",
    "    lin_reg_model = create_linear_regression_model(x_train_std, y_train, print_results = True)\n",
    "    print 'Test R^2:  ', format(lin_reg_model.score(x_test_std, y_test), '0.2f')\n",
    "    # Append model results to model results matrix\n",
    "    model_results_matrix.append([\n",
    "            'Linear Regression', \n",
    "            lin_reg_model.score(x_train_std, y_train),\n",
    "            lin_reg_model.score(x_test_std, y_test),\n",
    "            ''\n",
    "        ])"
   ]
  },
  {
   "cell_type": "markdown",
   "metadata": {},
   "source": [
    "#### Validation with StatsModel"
   ]
  },
  {
   "cell_type": "code",
   "execution_count": 25,
   "metadata": {
    "ExecuteTime": {
     "end_time": "2016-12-14T22:23:20.933959",
     "start_time": "2016-12-14T22:23:20.928528"
    },
    "collapsed": false,
    "scrolled": true
   },
   "outputs": [
    {
     "name": "stdout",
     "output_type": "stream",
     "text": [
      "Predictors List\n",
      "['Population', 'Road Connectivity', 'Road Capacity', 'Highway Capacity', 'Road Distance', 'Highway Distance', 'One-Way Distance', 'Bridge', 'Tunnel', 'Rail', 'Waterway Distance']\n"
     ]
    }
   ],
   "source": [
    "print 'Predictors List'\n",
    "print [predictor for predictor in predictors]"
   ]
  },
  {
   "cell_type": "code",
   "execution_count": 26,
   "metadata": {
    "ExecuteTime": {
     "end_time": "2016-12-14T22:23:20.945433",
     "start_time": "2016-12-14T22:23:20.936167"
    },
    "collapsed": false
   },
   "outputs": [],
   "source": [
    "x_train_sm = sm.add_constant(x_train_std)\n",
    "validation = OLS(y_train, x_train_sm).fit()\n",
    "# print validation.summary()\n",
    "# validation.rsquared"
   ]
  },
  {
   "cell_type": "markdown",
   "metadata": {},
   "source": [
    "#### Forward stepwise subset selection"
   ]
  },
  {
   "cell_type": "code",
   "execution_count": 27,
   "metadata": {
    "ExecuteTime": {
     "end_time": "2016-12-14T22:23:21.048516",
     "start_time": "2016-12-14T22:23:20.947865"
    },
    "collapsed": false,
    "scrolled": true
   },
   "outputs": [
    {
     "name": "stdout",
     "output_type": "stream",
     "text": [
      "Step-wise forward subset selection:\n",
      "Train R^2:  0.43\n",
      "Predictors:  ['Road Connectivity', 'Highway Distance', 'Bridge', 'Road Distance', 'Road Capacity', 'Population', 'Rail', 'Waterway Distance', 'Tunnel', 'Highway Capacity']\n",
      "\n",
      "Linear regression model created\n",
      "Train R^2:  0.43\n",
      "Test R^2:   0.43\n"
     ]
    }
   ],
   "source": [
    "# Only run model in case of regression\n",
    "if regression:\n",
    "    # Select best predictors\n",
    "    forward_predictors = forward_stepwise_subset_selection(x_train_std, y_train, predictors, print_results = True)\n",
    "    \n",
    "    # Run model with best predictors\n",
    "    lin_reg_model = create_linear_regression_model(x_train_std[:, forward_predictors], y_train, print_results = True)\n",
    "    print 'Test R^2:  ', format(lin_reg_model.score(x_test_std[:, forward_predictors], y_test), '0.2f')\n",
    "    # Append model results to model results matrix\n",
    "    model_results_matrix.append([\n",
    "            'Forward Stepwise Regression', \n",
    "            lin_reg_model.score(x_train_std[:, forward_predictors], y_train),\n",
    "            lin_reg_model.score(x_test_std[:, forward_predictors], y_test),\n",
    "            'Number of predictors: ' + str(len(forward_predictors))\n",
    "        ])"
   ]
  },
  {
   "cell_type": "markdown",
   "metadata": {},
   "source": [
    "#### Backward stepwise subset selection"
   ]
  },
  {
   "cell_type": "code",
   "execution_count": 28,
   "metadata": {
    "ExecuteTime": {
     "end_time": "2016-12-14T22:23:21.147432",
     "start_time": "2016-12-14T22:23:21.050830"
    },
    "collapsed": false
   },
   "outputs": [
    {
     "name": "stdout",
     "output_type": "stream",
     "text": [
      "Step-wise backward subset selection:\n",
      "Train R^2:  0.43\n",
      "Subset of best predictors:  ['Population', 'Road Connectivity', 'Road Capacity', 'Highway Capacity', 'Road Distance', 'Highway Distance', 'Bridge', 'Tunnel', 'Rail', 'Waterway Distance']\n",
      "\n",
      "Linear regression model created\n",
      "Train R^2:  0.43\n",
      "Test R^2:   0.43\n"
     ]
    }
   ],
   "source": [
    "# Only run model in case of regression\n",
    "if regression:\n",
    "    # Select best predictors\n",
    "    backward_predictors = backward_stepwise_subset_selection(x_train_std, y_train, predictors, print_results = True)\n",
    "\n",
    "    # Run model with best predictors\n",
    "    lin_reg_model = create_linear_regression_model(x_train_std[:, backward_predictors], y_train, print_results = True)\n",
    "    print 'Test R^2:  ', format(lin_reg_model.score(x_test_std[:, backward_predictors], y_test), '0.2f')\n",
    "    # Append model results to model results matrix\n",
    "    model_results_matrix.append([\n",
    "            'Backward Stepwise Regression', \n",
    "            lin_reg_model.score(x_train_std[:, backward_predictors], y_train),\n",
    "            lin_reg_model.score(x_test_std[:, backward_predictors], y_test),\n",
    "            'Number of predictors: ' + str(len(backward_predictors))\n",
    "        ])"
   ]
  },
  {
   "cell_type": "markdown",
   "metadata": {
    "code_folding": []
   },
   "source": [
    "### Quadratic Linear Regression Model"
   ]
  },
  {
   "cell_type": "code",
   "execution_count": 29,
   "metadata": {
    "ExecuteTime": {
     "end_time": "2016-12-14T22:23:21.157697",
     "start_time": "2016-12-14T22:23:21.149800"
    },
    "collapsed": true
   },
   "outputs": [],
   "source": [
    "# Create polynomial terms\n",
    "x_train_transf = polynomial_transf(x_train_std, 2)\n",
    "x_test_transf = polynomial_transf(x_test_std, 2)"
   ]
  },
  {
   "cell_type": "code",
   "execution_count": 30,
   "metadata": {
    "ExecuteTime": {
     "end_time": "2016-12-14T22:23:21.177529",
     "start_time": "2016-12-14T22:23:21.160244"
    },
    "collapsed": false
   },
   "outputs": [
    {
     "name": "stdout",
     "output_type": "stream",
     "text": [
      "\n",
      "Linear regression model created\n",
      "Train R^2:  0.51\n",
      "Test R^2:   0.31\n"
     ]
    }
   ],
   "source": [
    "# Only run model in case of regression\n",
    "if regression:\n",
    "    # Run polynomial model\n",
    "    poly_reg_model = create_linear_regression_model(x_train_transf, y_train, print_results = True)\n",
    "    print 'Test R^2:  ', format(poly_reg_model.score(x_test_transf, y_test), '0.2f')\n",
    "    # Append model results to model results matrix\n",
    "    model_results_matrix.append([\n",
    "            'Polynomial Regression - ' + str(2), \n",
    "            poly_reg_model.score(x_train_transf, y_train),\n",
    "            poly_reg_model.score(x_test_transf, y_test),\n",
    "            ''\n",
    "        ])\n"
   ]
  },
  {
   "cell_type": "markdown",
   "metadata": {},
   "source": [
    "#### Forward stepwise subset selection"
   ]
  },
  {
   "cell_type": "code",
   "execution_count": 31,
   "metadata": {
    "ExecuteTime": {
     "end_time": "2016-12-14T22:23:26.316309",
     "start_time": "2016-12-14T22:23:21.179978"
    },
    "collapsed": false
   },
   "outputs": [
    {
     "name": "stdout",
     "output_type": "stream",
     "text": [
      "\n",
      "Linear regression model created\n",
      "Train R^2:  0.50\n",
      "Test R^2:   0.31\n"
     ]
    }
   ],
   "source": [
    "# Only run model in case of regression\n",
    "if regression:\n",
    "    # Select best predictors\n",
    "    forward_predictors = forward_stepwise_subset_selection(x_train_transf, y_train, predictors, print_results = False)\n",
    "    \n",
    "    # Run model with best predictors\n",
    "    lin_reg_model = create_linear_regression_model(x_train_transf[:, forward_predictors], y_train, print_results = True)\n",
    "    print 'Test R^2:  ', format(lin_reg_model.score(x_test_transf[:, forward_predictors], y_test), '0.2f')\n",
    "    # Append model results to model results matrix\n",
    "    model_results_matrix.append([\n",
    "            'Forward Stepwise Polynomial Regression', \n",
    "            lin_reg_model.score(x_train_transf[:, forward_predictors], y_train),\n",
    "            lin_reg_model.score(x_test_transf[:, forward_predictors], y_test),\n",
    "            'Number of predictors: ' + str(len(forward_predictors))\n",
    "        ])"
   ]
  },
  {
   "cell_type": "markdown",
   "metadata": {
    "ExecuteTime": {
     "end_time": "2016-12-06T19:58:07.379348",
     "start_time": "2016-12-07T00:57:16.836Z"
    }
   },
   "source": [
    "#### Backward stepwise subset selection"
   ]
  },
  {
   "cell_type": "code",
   "execution_count": 32,
   "metadata": {
    "ExecuteTime": {
     "end_time": "2016-12-14T22:23:33.680728",
     "start_time": "2016-12-14T22:23:26.319095"
    },
    "collapsed": false
   },
   "outputs": [
    {
     "name": "stdout",
     "output_type": "stream",
     "text": [
      "\n",
      "Linear regression model created\n",
      "Train R^2:  0.50\n",
      "Test R^2:   0.32\n"
     ]
    }
   ],
   "source": [
    "# Only run model in case of regression\n",
    "if regression:\n",
    "    # Select best predictors\n",
    "    backward_predictors = backward_stepwise_subset_selection(x_train_transf, y_train, predictors, print_results = False)\n",
    "\n",
    "    # Run model with best predictors\n",
    "    lin_reg_model = create_linear_regression_model(x_train_transf[:, backward_predictors], y_train, print_results = True)\n",
    "    print 'Test R^2:  ', format(lin_reg_model.score(x_test_transf[:, backward_predictors], y_test), '0.2f')\n",
    "    # Append model results to model results matrix\n",
    "    model_results_matrix.append([\n",
    "            'Backward Stepwise Polynomial Regression', \n",
    "            lin_reg_model.score(x_train_transf[:, backward_predictors], y_train),\n",
    "            lin_reg_model.score(x_test_transf[:, backward_predictors], y_test),\n",
    "            'Number of predictors: ' + str(len(backward_predictors))\n",
    "        ])"
   ]
  },
  {
   "cell_type": "markdown",
   "metadata": {},
   "source": [
    "####  Ridge regression"
   ]
  },
  {
   "cell_type": "code",
   "execution_count": 33,
   "metadata": {
    "ExecuteTime": {
     "end_time": "2016-12-14T22:23:33.904328",
     "start_time": "2016-12-14T22:23:33.682324"
    },
    "collapsed": false
   },
   "outputs": [
    {
     "name": "stdout",
     "output_type": "stream",
     "text": [
      "\n",
      "Ridge regression model created\n",
      "Best regularization parameter: 100\n",
      "Train R^2:  0.47\n",
      "CV R^2:  0.35\n",
      "Test R^2:   0.37\n"
     ]
    }
   ],
   "source": [
    "# Only run model in case of regression\n",
    "if regression:\n",
    "    ridge_poly_reg_model = create_regularized_regression_model(x_train_transf, y_train, regularization_type = 'Ridge', print_results = True, visualize_results = False)\n",
    "    print 'Test R^2:  ', format(ridge_poly_reg_model.score(x_test_transf, y_test), '0.2f')\n",
    "    # Append model results to model results matrix\n",
    "    model_results_matrix.append([\n",
    "            'Polynomial Ridge Regression - ' + str(2), \n",
    "            ridge_poly_reg_model.score(x_train_transf, y_train),\n",
    "            ridge_poly_reg_model.score(x_test_transf, y_test),\n",
    "            'alpha: ' + str(ridge_poly_reg_model.alpha)\n",
    "        ])"
   ]
  },
  {
   "cell_type": "markdown",
   "metadata": {},
   "source": [
    "#### Lasso regression"
   ]
  },
  {
   "cell_type": "code",
   "execution_count": 34,
   "metadata": {
    "ExecuteTime": {
     "end_time": "2016-12-14T22:23:34.986936",
     "start_time": "2016-12-14T22:23:33.906261"
    },
    "collapsed": false
   },
   "outputs": [
    {
     "name": "stderr",
     "output_type": "stream",
     "text": [
      "//anaconda/lib/python2.7/site-packages/sklearn/linear_model/coordinate_descent.py:484: ConvergenceWarning: Objective did not converge. You might want to increase the number of iterations. Fitting data with very small alpha may cause precision problems.\n",
      "  ConvergenceWarning)\n"
     ]
    },
    {
     "name": "stdout",
     "output_type": "stream",
     "text": [
      "\n",
      "Lasso regression model created\n",
      "Best regularization parameter: 0.01\n",
      "Train R^2:  0.47\n",
      "CV R^2:  0.38\n",
      "Test R^2:   0.39\n"
     ]
    }
   ],
   "source": [
    "# Only run model in case of regression\n",
    "if regression:\n",
    "    lasso_poly_reg_model = create_regularized_regression_model(x_train_transf, y_train, regularization_type = 'Lasso', print_results = True, visualize_results = False)\n",
    "    print 'Test R^2:  ', format(lasso_poly_reg_model.score(x_test_transf, y_test), '0.2f')\n",
    "    # Append model results to model results matrix\n",
    "    model_results_matrix.append([\n",
    "            'Polynomial Lasso Regression - ' + str(2), \n",
    "            lasso_poly_reg_model.score(x_train_transf, y_train),\n",
    "            lasso_poly_reg_model.score(x_test_transf, y_test),\n",
    "            'alpha: ' + str(lasso_poly_reg_model.alpha)\n",
    "        ])"
   ]
  },
  {
   "cell_type": "markdown",
   "metadata": {},
   "source": [
    "\n",
    "\n",
    "##### Validation with StatsModel"
   ]
  },
  {
   "cell_type": "code",
   "execution_count": 35,
   "metadata": {
    "ExecuteTime": {
     "end_time": "2016-12-14T22:23:34.994101",
     "start_time": "2016-12-14T22:23:34.989198"
    },
    "collapsed": false
   },
   "outputs": [
    {
     "name": "stdout",
     "output_type": "stream",
     "text": [
      "Predictors List\n",
      "['Population', 'Road Connectivity', 'Road Capacity', 'Highway Capacity', 'Road Distance', 'Highway Distance', 'One-Way Distance', 'Bridge', 'Tunnel', 'Rail', 'Waterway Distance']\n"
     ]
    }
   ],
   "source": [
    "print 'Predictors List'\n",
    "print [predictor for predictor in predictors]"
   ]
  },
  {
   "cell_type": "code",
   "execution_count": 36,
   "metadata": {
    "ExecuteTime": {
     "end_time": "2016-12-14T22:23:35.009957",
     "start_time": "2016-12-14T22:23:34.996518"
    },
    "collapsed": false,
    "scrolled": false
   },
   "outputs": [],
   "source": [
    "# x_train_transf_sm = sm.add_constant(x_train_transf)\n",
    "validation_poly = OLS(y_train, x_train_transf).fit()\n",
    "# print validation_poly.summary()"
   ]
  },
  {
   "cell_type": "markdown",
   "metadata": {},
   "source": [
    "#### No Standarization"
   ]
  },
  {
   "cell_type": "code",
   "execution_count": 37,
   "metadata": {
    "ExecuteTime": {
     "end_time": "2016-12-14T22:23:35.032509",
     "start_time": "2016-12-14T22:23:35.012164"
    },
    "collapsed": false
   },
   "outputs": [
    {
     "name": "stdout",
     "output_type": "stream",
     "text": [
      "\n",
      "Linear regression model created\n",
      "Train R^2:  0.51\n",
      "Test R^2:   0.31\n"
     ]
    }
   ],
   "source": [
    "# Create non standardized polynomial predictors\n",
    "x_train_transf_nostd = polynomial_transf(x_train, 2)\n",
    "x_test_transf_nostd = polynomial_transf(x_test, 2)\n",
    "\n",
    "# Only run model in case of regression\n",
    "if regression:\n",
    "    # Run polynomial model\n",
    "    poly_reg_model_nostd = create_linear_regression_model(x_train_transf_nostd, y_train, print_results = True)\n",
    "    print 'Test R^2:  ', format(poly_reg_model_nostd.score(x_test_transf_nostd, y_test), '0.2f')\n",
    "    # Append model results to model results matrix\n",
    "    model_results_matrix.append([\n",
    "            'Polynomial Regression (Non Standardization) - ' + str(2), \n",
    "            poly_reg_model_nostd.score(x_train_transf_nostd, y_train),\n",
    "            poly_reg_model_nostd.score(x_test_transf_nostd, y_test),\n",
    "            ''\n",
    "        ])"
   ]
  },
  {
   "cell_type": "code",
   "execution_count": 38,
   "metadata": {
    "ExecuteTime": {
     "end_time": "2016-12-14T22:23:35.047195",
     "start_time": "2016-12-14T22:23:35.035444"
    },
    "collapsed": false,
    "scrolled": false
   },
   "outputs": [],
   "source": [
    "validation_poly_nostd = sm.OLS(y_train, x_train_transf_nostd).fit()\n",
    "# print validation_poly_nostd.summary()"
   ]
  },
  {
   "cell_type": "markdown",
   "metadata": {},
   "source": [
    "### Logistic Regression Model"
   ]
  },
  {
   "cell_type": "code",
   "execution_count": 39,
   "metadata": {
    "ExecuteTime": {
     "end_time": "2016-12-14T22:23:35.057504",
     "start_time": "2016-12-14T22:23:35.049582"
    },
    "collapsed": false,
    "scrolled": true
   },
   "outputs": [],
   "source": [
    "# Only run model in case of classification\n",
    "if not regression:\n",
    "    log_reg_model = create_logistic_regression_model(x_train_std, y_train, regularization_type='l2', print_results = True)\n",
    "    print 'Test R^2:  ', format(log_reg_model.score(x_test_std, y_test), '0.2f')\n",
    "    # Append model results to model results matrix\n",
    "    model_results_matrix.append([\n",
    "            'Logistic Regression - Std', \n",
    "            log_reg_model.score(x_train_std, y_train),\n",
    "            log_reg_model.score(x_test_std, y_test),\n",
    "            'C: ' + str(log_reg_model.C)\n",
    "        ])"
   ]
  },
  {
   "cell_type": "markdown",
   "metadata": {},
   "source": [
    "### Quadratic Logistic Regression Model"
   ]
  },
  {
   "cell_type": "code",
   "execution_count": 40,
   "metadata": {
    "ExecuteTime": {
     "end_time": "2016-12-14T22:23:35.067429",
     "start_time": "2016-12-14T22:23:35.059744"
    },
    "collapsed": false
   },
   "outputs": [],
   "source": [
    "# Only run model in case of classification\n",
    "if not regression:\n",
    "    poly_log_reg_model = create_logistic_regression_model(x_train_transf, y_train, regularization_type='l2', print_results = True)\n",
    "    print 'Test R^2:  ', format(poly_log_reg_model.score(x_test_transf, y_test), '0.2f')\n",
    "    # Append model results to model results matrix\n",
    "    model_results_matrix.append([\n",
    "            'Polynomial Logistic Regression - ' + str(2),\n",
    "            poly_log_reg_model.score(x_train_transf, y_train),\n",
    "            poly_log_reg_model.score(x_test_transf, y_test),\n",
    "            'C: ' + str(poly_log_reg_model.C)\n",
    "        ])"
   ]
  },
  {
   "cell_type": "markdown",
   "metadata": {
    "collapsed": true
   },
   "source": [
    "### Random forest model - No Standarization"
   ]
  },
  {
   "cell_type": "code",
   "execution_count": 41,
   "metadata": {
    "ExecuteTime": {
     "end_time": "2016-12-14T22:23:35.077263",
     "start_time": "2016-12-14T22:23:35.070366"
    },
    "collapsed": false
   },
   "outputs": [],
   "source": [
    "# Only run model in case of classification\n",
    "if not regression:\n",
    "    forest_cls_model_nostd = create_random_forest_classification_model(x_train, y_train, print_results = True)\n",
    "    print 'Test R^2:  ', format(forest_cls_model_nostd.score(x_test, y_test), '0.2f')\n",
    "    features_list_cls = create_importance_features_list(forest_cls_model_nostd, predictors, visualize_results = True, title = 'Relative importance of Predictors')\n",
    "    # Append model results to model results matrix\n",
    "    model_results_matrix.append([\n",
    "            'Random Forest Classification', \n",
    "            forest_cls_model_nostd.score(x_train, y_train),\n",
    "            forest_cls_model_nostd.score(x_test, y_test),\n",
    "            'trees, depth: ' + str(forest_cls_model_nostd.n_estimators) + ',' + str(forest_cls_model_nostd.max_depth)\n",
    "        ])"
   ]
  },
  {
   "cell_type": "code",
   "execution_count": 42,
   "metadata": {
    "ExecuteTime": {
     "end_time": "2016-12-14T22:23:35.083301",
     "start_time": "2016-12-14T22:23:35.079785"
    },
    "collapsed": false
   },
   "outputs": [],
   "source": [
    "# print forest_cls_model_nostd.feature_importances_\n",
    "# predictors"
   ]
  },
  {
   "cell_type": "code",
   "execution_count": 43,
   "metadata": {
    "ExecuteTime": {
     "end_time": "2016-12-14T22:25:08.729055",
     "start_time": "2016-12-14T22:23:35.085469"
    },
    "collapsed": false
   },
   "outputs": [
    {
     "name": "stdout",
     "output_type": "stream",
     "text": [
      "\n",
      " Random Forest Model created\n",
      "Best number of trees:  90\n",
      "Best depth:  7\n",
      "Train R^2:  0.76\n",
      "CV R^2:  0.42\n",
      "Test R^2:   0.33\n"
     ]
    },
    {
     "data": {
      "image/png": "[encoded data removed]",
      "text/plain": [
       "<matplotlib.figure.Figure at 0x103fbb590>"
      ]
     },
     "metadata": {},
     "output_type": "display_data"
    }
   ],
   "source": [
    "# Only run model in case of regression\n",
    "if regression:\n",
    "    forest_reg_model_nostd = create_random_forest_regression_model(x_train, y_train, print_results = True)\n",
    "    print 'Test R^2:  ', format(forest_reg_model_nostd.score(x_test, y_test), '0.2f')\n",
    "    features_list_reg = create_importance_features_list(forest_reg_model_nostd, predictors, visualize_results = True, title = 'Relative importance of Each Feature')\n",
    "    # Append model results to model results matrix\n",
    "    model_results_matrix.append([\n",
    "            'Random Forest Regression', \n",
    "            forest_reg_model_nostd.score(x_train, y_train),\n",
    "            forest_reg_model_nostd.score(x_test, y_test),\n",
    "            'trees, depth: ' + str(forest_reg_model_nostd.n_estimators) + ',' + str(forest_reg_model_nostd.max_depth)\n",
    "        ])"
   ]
  },
  {
   "cell_type": "code",
   "execution_count": 44,
   "metadata": {
    "ExecuteTime": {
     "end_time": "2016-12-14T22:25:08.753219",
     "start_time": "2016-12-14T22:25:08.730855"
    },
    "collapsed": false,
    "scrolled": false
   },
   "outputs": [
    {
     "data": {
      "text/html": [
       "<div>\n",
       "<table border=\"1\" class=\"dataframe\">\n",
       "  <thead>\n",
       "    <tr style=\"text-align: right;\">\n",
       "      <th></th>\n",
       "      <th>Model</th>\n",
       "      <th>Train Score</th>\n",
       "      <th>Test Score</th>\n",
       "      <th>Relevant Parameters</th>\n",
       "    </tr>\n",
       "  </thead>\n",
       "  <tbody>\n",
       "    <tr>\n",
       "      <th>0</th>\n",
       "      <td>Linear Regression (No Standardization)</td>\n",
       "      <td>0.434377</td>\n",
       "      <td>0.428022</td>\n",
       "      <td></td>\n",
       "    </tr>\n",
       "    <tr>\n",
       "      <th>1</th>\n",
       "      <td>Linear Regression</td>\n",
       "      <td>0.434377</td>\n",
       "      <td>0.428022</td>\n",
       "      <td></td>\n",
       "    </tr>\n",
       "    <tr>\n",
       "      <th>2</th>\n",
       "      <td>Forward Stepwise Regression</td>\n",
       "      <td>0.433912</td>\n",
       "      <td>0.427306</td>\n",
       "      <td>Number of predictors: 10</td>\n",
       "    </tr>\n",
       "    <tr>\n",
       "      <th>3</th>\n",
       "      <td>Backward Stepwise Regression</td>\n",
       "      <td>0.433912</td>\n",
       "      <td>0.427306</td>\n",
       "      <td>Number of predictors: 10</td>\n",
       "    </tr>\n",
       "    <tr>\n",
       "      <th>4</th>\n",
       "      <td>Polynomial Regression - 2</td>\n",
       "      <td>0.506048</td>\n",
       "      <td>0.309171</td>\n",
       "      <td></td>\n",
       "    </tr>\n",
       "    <tr>\n",
       "      <th>5</th>\n",
       "      <td>Forward Stepwise Polynomial Regression</td>\n",
       "      <td>0.502224</td>\n",
       "      <td>0.309727</td>\n",
       "      <td>Number of predictors: 49</td>\n",
       "    </tr>\n",
       "    <tr>\n",
       "      <th>6</th>\n",
       "      <td>Backward Stepwise Polynomial Regression</td>\n",
       "      <td>0.500897</td>\n",
       "      <td>0.320743</td>\n",
       "      <td>Number of predictors: 42</td>\n",
       "    </tr>\n",
       "    <tr>\n",
       "      <th>7</th>\n",
       "      <td>Polynomial Ridge Regression - 2</td>\n",
       "      <td>0.469893</td>\n",
       "      <td>0.370441</td>\n",
       "      <td>alpha: 100</td>\n",
       "    </tr>\n",
       "    <tr>\n",
       "      <th>8</th>\n",
       "      <td>Polynomial Lasso Regression - 2</td>\n",
       "      <td>0.472965</td>\n",
       "      <td>0.391058</td>\n",
       "      <td>alpha: 0.01</td>\n",
       "    </tr>\n",
       "    <tr>\n",
       "      <th>9</th>\n",
       "      <td>Polynomial Regression (Non Standardization) - 2</td>\n",
       "      <td>0.506048</td>\n",
       "      <td>0.309142</td>\n",
       "      <td></td>\n",
       "    </tr>\n",
       "    <tr>\n",
       "      <th>10</th>\n",
       "      <td>Random Forest Regression</td>\n",
       "      <td>0.758931</td>\n",
       "      <td>0.331457</td>\n",
       "      <td>trees, depth: 90,7</td>\n",
       "    </tr>\n",
       "  </tbody>\n",
       "</table>\n",
       "</div>"
      ],
      "text/plain": [
       "                                              Model  Train Score  Test Score  \\\n",
       "0            Linear Regression (No Standardization)     0.434377    0.428022   \n",
       "1                                 Linear Regression     0.434377    0.428022   \n",
       "2                       Forward Stepwise Regression     0.433912    0.427306   \n",
       "3                      Backward Stepwise Regression     0.433912    0.427306   \n",
       "4                         Polynomial Regression - 2     0.506048    0.309171   \n",
       "5            Forward Stepwise Polynomial Regression     0.502224    0.309727   \n",
       "6           Backward Stepwise Polynomial Regression     0.500897    0.320743   \n",
       "7                   Polynomial Ridge Regression - 2     0.469893    0.370441   \n",
       "8                   Polynomial Lasso Regression - 2     0.472965    0.391058   \n",
       "9   Polynomial Regression (Non Standardization) - 2     0.506048    0.309142   \n",
       "10                         Random Forest Regression     0.758931    0.331457   \n",
       "\n",
       "         Relevant Parameters  \n",
       "0                             \n",
       "1                             \n",
       "2   Number of predictors: 10  \n",
       "3   Number of predictors: 10  \n",
       "4                             \n",
       "5   Number of predictors: 49  \n",
       "6   Number of predictors: 42  \n",
       "7                 alpha: 100  \n",
       "8                alpha: 0.01  \n",
       "9                             \n",
       "10        trees, depth: 90,7  "
      ]
     },
     "execution_count": 44,
     "metadata": {},
     "output_type": "execute_result"
    }
   ],
   "source": [
    "test_scores = pd.DataFrame(data = model_results_matrix, columns = ['Model', 'Train Score', 'Test Score', 'Relevant Parameters'])\n",
    "test_scores"
   ]
  },
  {
   "cell_type": "code",
   "execution_count": 45,
   "metadata": {
    "ExecuteTime": {
     "end_time": "2016-12-14T22:25:08.965498",
     "start_time": "2016-12-14T22:25:08.755601"
    },
    "collapsed": false,
    "scrolled": false
   },
   "outputs": [
    {
     "data": {
      "image/png": "[encoded data removed]",
      "text/plain": [
       "<matplotlib.figure.Figure at 0x113340f50>"
      ]
     },
     "metadata": {},
     "output_type": "display_data"
    }
   ],
   "source": [
    "# Compute matrix of correlation coefficients\n",
    "corr_matrix = np.corrcoef(x_train.T)\n",
    "\n",
    "# Display heat map \n",
    "fig, ax = plt.subplots(1, 1, figsize=(6, 6))\n",
    "\n",
    "ax.pcolor(corr_matrix)\n",
    "\n",
    "ax.set_title('Heatmap of correlation matrix')\n",
    "\n",
    "plt.show()\n"
   ]
  }
 ],
 "metadata": {
  "kernelspec": {
   "display_name": "Python 2",
   "language": "python",
   "name": "python2"
  },
  "language_info": {
   "codemirror_mode": {
    "name": "ipython",
    "version": 2
   },
   "file_extension": ".py",
   "mimetype": "text/x-python",
   "name": "python",
   "nbconvert_exporter": "python",
   "pygments_lexer": "ipython2",
   "version": "2.7.12"
  },
  "latex_envs": {
   "bibliofile": "biblio.bib",
   "cite_by": "apalike",
   "current_citInitial": 1,
   "eqLabelWithNumbers": true,
   "eqNumInitial": 0
  },
  "toc": {
   "nav_menu": {
    "height": "12px",
    "width": "252px"
   },
   "navigate_menu": true,
   "number_sections": true,
   "sideBar": true,
   "threshold": 4,
   "toc_cell": false,
   "toc_position": {
    "height": "940px",
    "left": "0px",
    "right": "1607.5px",
    "top": "106px",
    "width": "254px"
   },
   "toc_section_display": "block",
   "toc_window_display": true
  }
 },
 "nbformat": 4,
 "nbformat_minor": 0
}
